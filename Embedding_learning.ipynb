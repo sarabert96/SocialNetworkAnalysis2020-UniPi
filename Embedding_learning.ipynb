{
  "nbformat": 4,
  "nbformat_minor": 0,
  "metadata": {
    "colab": {
      "name": "Embedding_learning (1).ipynb",
      "provenance": [],
      "collapsed_sections": []
    },
    "kernelspec": {
      "name": "python3",
      "display_name": "Python 3"
    }
  },
  "cells": [
    {
      "cell_type": "code",
      "metadata": {
        "id": "dNn8oiALn_P3",
        "colab_type": "code",
        "colab": {}
      },
      "source": [
        "import pandas as pd\n",
        "import numpy as np\n",
        "from sklearn.linear_model import LogisticRegression\n",
        "from sklearn.metrics import classification_report, roc_auc_score\n",
        "from sklearn.model_selection import train_test_split\n",
        "from sklearn.metrics import confusion_matrix\n",
        "from sklearn.metrics import roc_curve\n",
        "from sklearn.metrics import auc\n",
        "import matplotlib.pyplot as plt\n",
        "import sklearn.metrics as metrics\n",
        "\n",
        "import tensorflow as tf\n",
        "import tensorflow.keras\n",
        "import tensorflow.keras.backend as K\n",
        "from tensorflow.keras.models import Sequential \n",
        "from tensorflow.keras.layers import Dense, Activation\n",
        "from tensorflow.keras.wrappers.scikit_learn import KerasClassifier\n",
        "from tensorflow.keras import optimizers, utils, initializers, regularizers\n",
        "from tensorflow.keras.callbacks import EarlyStopping\n",
        "\n",
        "import itertools as it"
      ],
      "execution_count": null,
      "outputs": []
    },
    {
      "cell_type": "code",
      "metadata": {
        "id": "pLhKMd1Mnpc_",
        "colab_type": "code",
        "colab": {}
      },
      "source": [
        "# read dataframe of links\n",
        "embedding_df_pickle = pd.read_pickle('embedding_pickle.csv')"
      ],
      "execution_count": null,
      "outputs": []
    },
    {
      "cell_type": "code",
      "metadata": {
        "id": "yfQ0FNZ5vuUj",
        "colab_type": "code",
        "colab": {
          "base_uri": "https://localhost:8080/",
          "height": 203
        },
        "outputId": "adb55859-cc62-4541-b86a-766e0e0c7129"
      },
      "source": [
        "embedding_df_pickle.head(5)"
      ],
      "execution_count": null,
      "outputs": [
        {
          "output_type": "execute_result",
          "data": {
            "text/html": [
              "<div>\n",
              "<style scoped>\n",
              "    .dataframe tbody tr th:only-of-type {\n",
              "        vertical-align: middle;\n",
              "    }\n",
              "\n",
              "    .dataframe tbody tr th {\n",
              "        vertical-align: top;\n",
              "    }\n",
              "\n",
              "    .dataframe thead th {\n",
              "        text-align: right;\n",
              "    }\n",
              "</style>\n",
              "<table border=\"1\" class=\"dataframe\">\n",
              "  <thead>\n",
              "    <tr style=\"text-align: right;\">\n",
              "      <th></th>\n",
              "      <th>first</th>\n",
              "      <th>second</th>\n",
              "      <th>link</th>\n",
              "    </tr>\n",
              "  </thead>\n",
              "  <tbody>\n",
              "    <tr>\n",
              "      <th>0</th>\n",
              "      <td>[0.078552246, 0.1998291, 0.11755371, 0.1346435...</td>\n",
              "      <td>[-0.1375, 0.10991211, 0.13271484, 0.05996094, ...</td>\n",
              "      <td>1</td>\n",
              "    </tr>\n",
              "    <tr>\n",
              "      <th>1</th>\n",
              "      <td>[0.078552246, 0.1998291, 0.11755371, 0.1346435...</td>\n",
              "      <td>[-0.19732666, 0.035949707, 0.16992188, 0.08459...</td>\n",
              "      <td>1</td>\n",
              "    </tr>\n",
              "    <tr>\n",
              "      <th>2</th>\n",
              "      <td>[0.078552246, 0.1998291, 0.11755371, 0.1346435...</td>\n",
              "      <td>[-0.265625, -0.16503906, 0.12402344, 0.1982421...</td>\n",
              "      <td>1</td>\n",
              "    </tr>\n",
              "    <tr>\n",
              "      <th>3</th>\n",
              "      <td>[0.078552246, 0.1998291, 0.11755371, 0.1346435...</td>\n",
              "      <td>[-0.099121094, 0.07373047, 0.0625, -0.12207031...</td>\n",
              "      <td>1</td>\n",
              "    </tr>\n",
              "    <tr>\n",
              "      <th>4</th>\n",
              "      <td>[0.078552246, 0.1998291, 0.11755371, 0.1346435...</td>\n",
              "      <td>[0.5434049417909654, 0.27836938509379616, 0.42...</td>\n",
              "      <td>1</td>\n",
              "    </tr>\n",
              "  </tbody>\n",
              "</table>\n",
              "</div>"
            ],
            "text/plain": [
              "                                               first  ... link\n",
              "0  [0.078552246, 0.1998291, 0.11755371, 0.1346435...  ...    1\n",
              "1  [0.078552246, 0.1998291, 0.11755371, 0.1346435...  ...    1\n",
              "2  [0.078552246, 0.1998291, 0.11755371, 0.1346435...  ...    1\n",
              "3  [0.078552246, 0.1998291, 0.11755371, 0.1346435...  ...    1\n",
              "4  [0.078552246, 0.1998291, 0.11755371, 0.1346435...  ...    1\n",
              "\n",
              "[5 rows x 3 columns]"
            ]
          },
          "metadata": {
            "tags": []
          },
          "execution_count": 13
        }
      ]
    },
    {
      "cell_type": "code",
      "metadata": {
        "id": "AjgLCFctz1z5",
        "colab_type": "code",
        "colab": {
          "base_uri": "https://localhost:8080/",
          "height": 87
        },
        "outputId": "a8cf2142-cf67-4121-a33e-83e266742a12"
      },
      "source": [
        "embedding_df_pickle.dtypes"
      ],
      "execution_count": null,
      "outputs": [
        {
          "output_type": "execute_result",
          "data": {
            "text/plain": [
              "first     object\n",
              "second    object\n",
              "link      object\n",
              "dtype: object"
            ]
          },
          "metadata": {
            "tags": []
          },
          "execution_count": 14
        }
      ]
    },
    {
      "cell_type": "code",
      "metadata": {
        "id": "Sp76Amtw0gxx",
        "colab_type": "code",
        "colab": {}
      },
      "source": [
        "embedding_df_pickle['mixed'] = 0\n",
        "embedding_df_pickle.mixed = embedding_df_pickle.mixed.astype(object)"
      ],
      "execution_count": null,
      "outputs": []
    },
    {
      "cell_type": "code",
      "metadata": {
        "id": "R2c4ic58ub74",
        "colab_type": "code",
        "colab": {}
      },
      "source": [
        "for i in range(embedding_df_pickle.shape[0]):\n",
        "    first = embedding_df_pickle.iloc[i][0]\n",
        "    second = embedding_df_pickle.iloc[i][1]\n",
        "    mixed = np.concatenate((first, second), 0)\n",
        "    embedding_df_pickle.loc[i, 'mixed'] = mixed"
      ],
      "execution_count": null,
      "outputs": []
    },
    {
      "cell_type": "code",
      "metadata": {
        "id": "TD8bTnG_2Ryx",
        "colab_type": "code",
        "colab": {}
      },
      "source": [
        "X = embedding_df_pickle['mixed'].values"
      ],
      "execution_count": null,
      "outputs": []
    },
    {
      "cell_type": "code",
      "metadata": {
        "id": "4u5aihfJ63QV",
        "colab_type": "code",
        "colab": {}
      },
      "source": [
        "# creating matrix\n",
        "b = X[0]\n",
        "b = b.reshape((1,600))\n",
        "b.shape\n",
        "result = np.zeros((X.shape[0], b.shape[1]))\n",
        "for i,v in enumerate(X):\n",
        "    print(str(i)+\" \", end='')\n",
        "    v = v.reshape((1, 600))\n",
        "    result[i] = v"
      ],
      "execution_count": null,
      "outputs": []
    },
    {
      "cell_type": "code",
      "metadata": {
        "id": "0tcAvVao8cBz",
        "colab_type": "code",
        "colab": {}
      },
      "source": [
        "X = result"
      ],
      "execution_count": null,
      "outputs": []
    },
    {
      "cell_type": "code",
      "metadata": {
        "id": "w3oZ9aJDo3EB",
        "colab_type": "code",
        "colab": {}
      },
      "source": [
        "Y = embedding_df_pickle[['link']].values\n",
        "Y=Y.astype('int')"
      ],
      "execution_count": null,
      "outputs": []
    },
    {
      "cell_type": "code",
      "metadata": {
        "id": "jWb6t_YPn-12",
        "colab_type": "code",
        "colab": {}
      },
      "source": [
        "xtrain, xtest, ytrain, ytest = train_test_split(X, Y, \n",
        "                                                test_size = 0.3, \n",
        "                                                random_state = 35, stratify=Y)"
      ],
      "execution_count": null,
      "outputs": []
    },
    {
      "cell_type": "code",
      "metadata": {
        "id": "YarhHQw2p4DV",
        "colab_type": "code",
        "colab": {}
      },
      "source": [
        "xtrain, xval, ytrain, yval = train_test_split(xtrain, ytrain, \n",
        "                                                test_size = 0.3, \n",
        "                                                random_state = 35, stratify=ytrain)"
      ],
      "execution_count": null,
      "outputs": []
    },
    {
      "cell_type": "code",
      "metadata": {
        "id": "OkWXsxOt8uS9",
        "colab_type": "code",
        "colab": {
          "base_uri": "https://localhost:8080/",
          "height": 35
        },
        "outputId": "6bf9b535-10d3-470d-f388-d726a3b88506"
      },
      "source": [
        "ytrain.shape"
      ],
      "execution_count": null,
      "outputs": [
        {
          "output_type": "execute_result",
          "data": {
            "text/plain": [
              "(69146, 1)"
            ]
          },
          "metadata": {
            "tags": []
          },
          "execution_count": 25
        }
      ]
    },
    {
      "cell_type": "code",
      "metadata": {
        "id": "P8RqZm8A8_xL",
        "colab_type": "code",
        "colab": {
          "base_uri": "https://localhost:8080/",
          "height": 140
        },
        "outputId": "8c6e140a-0ecc-4696-eb07-43f42d417dfb"
      },
      "source": [
        "ytrain"
      ],
      "execution_count": null,
      "outputs": [
        {
          "output_type": "execute_result",
          "data": {
            "text/plain": [
              "array([[1],\n",
              "       [1],\n",
              "       [1],\n",
              "       ...,\n",
              "       [0],\n",
              "       [1],\n",
              "       [0]])"
            ]
          },
          "metadata": {
            "tags": []
          },
          "execution_count": 26
        }
      ]
    },
    {
      "cell_type": "code",
      "metadata": {
        "id": "XoZ2RBOZ9ZBx",
        "colab_type": "code",
        "colab": {
          "base_uri": "https://localhost:8080/",
          "height": 52
        },
        "outputId": "bae84e2f-76ea-4780-d148-fa2d93a155be"
      },
      "source": [
        "unique, counts = np.unique(ytrain, return_counts=True)\n",
        "print(np.asarray((unique, counts)).T)"
      ],
      "execution_count": null,
      "outputs": [
        {
          "output_type": "stream",
          "text": [
            "[[    0 34530]\n",
            " [    1 34616]]\n"
          ],
          "name": "stdout"
        }
      ]
    },
    {
      "cell_type": "code",
      "metadata": {
        "id": "OVjZpYwOpuVI",
        "colab_type": "code",
        "colab": {
          "base_uri": "https://localhost:8080/",
          "height": 160
        },
        "outputId": "12c6f76e-3efc-4051-c6ac-2cb41b1b21b5"
      },
      "source": [
        "lr = LogisticRegression()\n",
        "\n",
        "lr.fit(xtrain, ytrain)"
      ],
      "execution_count": null,
      "outputs": [
        {
          "output_type": "stream",
          "text": [
            "/usr/local/lib/python3.6/dist-packages/sklearn/utils/validation.py:760: DataConversionWarning: A column-vector y was passed when a 1d array was expected. Please change the shape of y to (n_samples, ), for example using ravel().\n",
            "  y = column_or_1d(y, warn=True)\n"
          ],
          "name": "stderr"
        },
        {
          "output_type": "execute_result",
          "data": {
            "text/plain": [
              "LogisticRegression(C=1.0, class_weight=None, dual=False, fit_intercept=True,\n",
              "                   intercept_scaling=1, l1_ratio=None, max_iter=100,\n",
              "                   multi_class='auto', n_jobs=None, penalty='l2',\n",
              "                   random_state=None, solver='lbfgs', tol=0.0001, verbose=0,\n",
              "                   warm_start=False)"
            ]
          },
          "metadata": {
            "tags": []
          },
          "execution_count": 28
        }
      ]
    },
    {
      "cell_type": "code",
      "metadata": {
        "id": "-a5YZilh-LWF",
        "colab_type": "code",
        "colab": {}
      },
      "source": [
        "predictions = lr.predict_proba(xtest)"
      ],
      "execution_count": null,
      "outputs": []
    },
    {
      "cell_type": "code",
      "metadata": {
        "id": "GAGKGR2lHtON",
        "colab_type": "code",
        "colab": {}
      },
      "source": [
        "predictions = predictions[:,1]\n",
        "fpr_lr, tpr_lr, threshold_lr = metrics.roc_curve(ytest, predictions)\n",
        "auc_lr = auc(fpr_lr, tpr_lr)"
      ],
      "execution_count": null,
      "outputs": []
    },
    {
      "cell_type": "code",
      "metadata": {
        "id": "trMK_6z-_BXd",
        "colab_type": "code",
        "colab": {}
      },
      "source": [
        "def create_model(learning_rate=0.1, momentum = 0.9, nesterov = True,\n",
        "                 activation = 'sigmoid', regularizer = 0.01, units=3, hidden_layers=1):\n",
        "    # create model\n",
        "    model = Sequential()\n",
        "    #initializer = initializers.RandomUniform(minval=0, maxval=0.5, seed=None)\n",
        "    model.add(Dense(units, input_dim=600, activation = activation, \n",
        "                         kernel_regularizer=regularizers.l2(regularizer)))  \n",
        "    for i in range(1,hidden_layers):\n",
        "          model.add(Dense(units, activation = activation, \n",
        "                         kernel_regularizer=regularizers.l2(regularizer)))  \n",
        "    model.add(Dense(1, activation = 'sigmoid',  kernel_regularizer=regularizers.l2(regularizer)))\n",
        "    sgd = optimizers.SGD(learning_rate=learning_rate, momentum=momentum, nesterov=nesterov)\n",
        "    model.compile(optimizer=sgd, loss='binary_crossentropy', metrics=['accuracy'])\n",
        "    return model"
      ],
      "execution_count": null,
      "outputs": []
    },
    {
      "cell_type": "code",
      "metadata": {
        "id": "4_XcCr9y_7Z8",
        "colab_type": "code",
        "colab": {}
      },
      "source": [
        "param_list = {'batch_size': [128],\n",
        "              'epochs': [100],\n",
        "             'learning_rate': [0.261],\n",
        "             'momentum':[0.9],\n",
        "             'nesterov':[False],\n",
        "             'activation':['tanh'],\n",
        "              'regularizer':[0.0001],\n",
        "              'units': [10],\n",
        "             'hidden_layers': [1]}"
      ],
      "execution_count": null,
      "outputs": []
    },
    {
      "cell_type": "code",
      "metadata": {
        "id": "f2xipkVFAIQU",
        "colab_type": "code",
        "colab": {}
      },
      "source": [
        "class Model:\n",
        "    def __init__(self, loss = 0, accuracy = 0, batch_size = 0, epochs = 0, learning_rate=0, momentum=0,nesterov=False,\n",
        "                activation='sigmoid', regularizer=0, units=0):\n",
        "        self.accuracy_CV_list = []\n",
        "        self.accuracy = accuracy\n",
        "        self.loss_CV_list = []\n",
        "        self.loss = loss\n",
        "        self.mee_list = []\n",
        "        self.mee = 0\n",
        "        self.std = 0\n",
        "        self.batch_size = batch_size\n",
        "        self.epochs = epochs\n",
        "        self.learning_rate = learning_rate\n",
        "        self.momentum = momentum\n",
        "        self.nesterov = nesterov\n",
        "        self.activation = activation\n",
        "        self.regularizer = regularizer\n",
        "        self.units = units\n",
        "        self.noise = 0\n",
        "    def toString(self):\n",
        "        print(\"\"\"{MEE: %f (+/- %0.2f), Number of Units: %d, Batch Size: %d, Epochs: %d, Learning Rate: %f, Momentum: %f,\n",
        "              \"Nesterov: %s, Activation: %s, Regularization: %f, Noise: %f}\"\"\" % \n",
        "              (self.mee, self.std, self.units, self.batch_size, self.epochs, self.learning_rate, self.momentum,\n",
        "              self.nesterov, self.activation, self.regularizer, self.noise))"
      ],
      "execution_count": null,
      "outputs": []
    },
    {
      "cell_type": "code",
      "metadata": {
        "id": "Ls1-XClLAESw",
        "colab_type": "code",
        "colab": {}
      },
      "source": [
        "def GridSearch(X_train, Y_train, parameters, cv = 3, rand=False):\n",
        "    models = []\n",
        "    allNames = list(parameters)\n",
        "    combinations = it.product(*(parameters[Name] for Name in allNames))\n",
        "    searchList = []\n",
        "    if rand:\n",
        "        searchList = random.sample(list(combinations), k=100)\n",
        "    else:\n",
        "        searchList = list(combinations)\n",
        "    for i in searchList:\n",
        "        print(searchList.index(i), i)\n",
        "        batch_size = i[0]\n",
        "        epochs=i[1]\n",
        "        learning_rate=i[2]\n",
        "        momentum=i[3]\n",
        "        nesterov=i[4]\n",
        "        activation=i[5]\n",
        "        regularizer=i[6]\n",
        "        units = i[7]\n",
        "        temp = Model(batch_size=batch_size, epochs=epochs, learning_rate=learning_rate,\n",
        "                     momentum=momentum, nesterov=nesterov, activation=activation, regularizer=regularizer, units=units)\n",
        "        model = None # Clearing the NN.\n",
        "        model = create_model(learning_rate=learning_rate, momentum=momentum, nesterov=nesterov, \n",
        "                                 activation=activation, regularizer=regularizer, units=units)\n",
        "        r = model.fit(X_train, Y_train,validation_split = float(1.0/cv),\n",
        "                      batch_size =batch_size, epochs=epochs, verbose=1)\n",
        "        loss = r.history['val_loss'][-1]\n",
        "        #accuracy = r.history['val_acc'][-1]\n",
        "        temp.loss = loss\n",
        "        #temp.accuracy = accuracy\n",
        "        models.append(temp) \n",
        "          \n",
        "    result = sorted(models, key=lambda x: x.loss, reverse=False)\n",
        "    return result, r, model"
      ],
      "execution_count": null,
      "outputs": []
    },
    {
      "cell_type": "code",
      "metadata": {
        "id": "ODDpHiMzANXT",
        "colab_type": "code",
        "colab": {
          "base_uri": "https://localhost:8080/",
          "height": 1000
        },
        "outputId": "5ca06303-fbd8-4a3c-b718-a454a84a6797"
      },
      "source": [
        "allModels, r, model = GridSearch(xtrain, ytrain, param_list, cv=3, rand=False)"
      ],
      "execution_count": null,
      "outputs": [
        {
          "output_type": "stream",
          "text": [
            "0 (128, 100, 0.261, 0.9, False, 'tanh', 0.0001, 10, 1)\n",
            "Epoch 1/100\n",
            "361/361 [==============================] - 1s 3ms/step - loss: 0.6979 - accuracy: 0.5045 - val_loss: 0.6940 - val_accuracy: 0.5189\n",
            "Epoch 2/100\n",
            "361/361 [==============================] - 1s 3ms/step - loss: 0.6707 - accuracy: 0.5895 - val_loss: 0.6655 - val_accuracy: 0.6113\n",
            "Epoch 3/100\n",
            "361/361 [==============================] - 1s 3ms/step - loss: 0.6444 - accuracy: 0.6343 - val_loss: 0.6477 - val_accuracy: 0.6328\n",
            "Epoch 4/100\n",
            "361/361 [==============================] - 1s 3ms/step - loss: 0.6347 - accuracy: 0.6436 - val_loss: 0.6480 - val_accuracy: 0.6313\n",
            "Epoch 5/100\n",
            "361/361 [==============================] - 1s 3ms/step - loss: 0.6250 - accuracy: 0.6602 - val_loss: 0.6438 - val_accuracy: 0.6529\n",
            "Epoch 6/100\n",
            "361/361 [==============================] - 1s 3ms/step - loss: 0.6120 - accuracy: 0.6810 - val_loss: 0.6470 - val_accuracy: 0.6392\n",
            "Epoch 7/100\n",
            "361/361 [==============================] - 1s 3ms/step - loss: 0.5986 - accuracy: 0.6979 - val_loss: 0.6511 - val_accuracy: 0.6490\n",
            "Epoch 8/100\n",
            "361/361 [==============================] - 1s 3ms/step - loss: 0.5881 - accuracy: 0.7092 - val_loss: 0.6139 - val_accuracy: 0.6907\n",
            "Epoch 9/100\n",
            "361/361 [==============================] - 1s 3ms/step - loss: 0.5783 - accuracy: 0.7151 - val_loss: 0.6001 - val_accuracy: 0.7022\n",
            "Epoch 10/100\n",
            "361/361 [==============================] - 1s 3ms/step - loss: 0.5724 - accuracy: 0.7207 - val_loss: 0.6361 - val_accuracy: 0.6802\n",
            "Epoch 11/100\n",
            "361/361 [==============================] - 1s 3ms/step - loss: 0.5673 - accuracy: 0.7266 - val_loss: 0.6028 - val_accuracy: 0.7040\n",
            "Epoch 12/100\n",
            "361/361 [==============================] - 1s 3ms/step - loss: 0.5650 - accuracy: 0.7289 - val_loss: 0.6350 - val_accuracy: 0.6854\n",
            "Epoch 13/100\n",
            "361/361 [==============================] - 1s 3ms/step - loss: 0.5631 - accuracy: 0.7321 - val_loss: 0.6136 - val_accuracy: 0.7025\n",
            "Epoch 14/100\n",
            "361/361 [==============================] - 1s 3ms/step - loss: 0.5633 - accuracy: 0.7330 - val_loss: 0.6208 - val_accuracy: 0.6966\n",
            "Epoch 15/100\n",
            "361/361 [==============================] - 1s 3ms/step - loss: 0.5618 - accuracy: 0.7356 - val_loss: 0.6124 - val_accuracy: 0.7004\n",
            "Epoch 16/100\n",
            "361/361 [==============================] - 1s 3ms/step - loss: 0.5587 - accuracy: 0.7382 - val_loss: 0.6629 - val_accuracy: 0.6722\n",
            "Epoch 17/100\n",
            "361/361 [==============================] - 1s 3ms/step - loss: 0.5588 - accuracy: 0.7378 - val_loss: 0.6271 - val_accuracy: 0.7034\n",
            "Epoch 18/100\n",
            "361/361 [==============================] - 1s 3ms/step - loss: 0.5543 - accuracy: 0.7415 - val_loss: 0.6536 - val_accuracy: 0.6905\n",
            "Epoch 19/100\n",
            "361/361 [==============================] - 1s 3ms/step - loss: 0.5547 - accuracy: 0.7408 - val_loss: 0.6224 - val_accuracy: 0.7022\n",
            "Epoch 20/100\n",
            "361/361 [==============================] - 1s 3ms/step - loss: 0.5614 - accuracy: 0.7389 - val_loss: 0.6868 - val_accuracy: 0.6617\n",
            "Epoch 21/100\n",
            "361/361 [==============================] - 1s 3ms/step - loss: 0.5590 - accuracy: 0.7415 - val_loss: 0.6108 - val_accuracy: 0.7141\n",
            "Epoch 22/100\n",
            "361/361 [==============================] - 1s 3ms/step - loss: 0.5514 - accuracy: 0.7474 - val_loss: 0.6561 - val_accuracy: 0.6812\n",
            "Epoch 23/100\n",
            "361/361 [==============================] - 1s 3ms/step - loss: 0.5502 - accuracy: 0.7474 - val_loss: 0.6224 - val_accuracy: 0.7062\n",
            "Epoch 24/100\n",
            "361/361 [==============================] - 1s 3ms/step - loss: 0.5488 - accuracy: 0.7471 - val_loss: 0.6210 - val_accuracy: 0.7128\n",
            "Epoch 25/100\n",
            "361/361 [==============================] - 1s 3ms/step - loss: 0.5515 - accuracy: 0.7479 - val_loss: 0.6100 - val_accuracy: 0.7149\n",
            "Epoch 26/100\n",
            "361/361 [==============================] - 1s 3ms/step - loss: 0.5479 - accuracy: 0.7497 - val_loss: 0.6340 - val_accuracy: 0.7087\n",
            "Epoch 27/100\n",
            "361/361 [==============================] - 1s 3ms/step - loss: 0.5488 - accuracy: 0.7489 - val_loss: 0.6130 - val_accuracy: 0.7166\n",
            "Epoch 28/100\n",
            "361/361 [==============================] - 1s 3ms/step - loss: 0.5499 - accuracy: 0.7484 - val_loss: 0.6162 - val_accuracy: 0.7106\n",
            "Epoch 29/100\n",
            "361/361 [==============================] - 1s 3ms/step - loss: 0.5471 - accuracy: 0.7502 - val_loss: 0.6270 - val_accuracy: 0.7028\n",
            "Epoch 30/100\n",
            "361/361 [==============================] - 1s 3ms/step - loss: 0.5484 - accuracy: 0.7509 - val_loss: 0.6435 - val_accuracy: 0.6954\n",
            "Epoch 31/100\n",
            "361/361 [==============================] - 1s 3ms/step - loss: 0.5531 - accuracy: 0.7482 - val_loss: 0.6255 - val_accuracy: 0.7081\n",
            "Epoch 32/100\n",
            "361/361 [==============================] - 1s 3ms/step - loss: 0.5481 - accuracy: 0.7524 - val_loss: 0.6275 - val_accuracy: 0.7055\n",
            "Epoch 33/100\n",
            "361/361 [==============================] - 1s 3ms/step - loss: 0.5461 - accuracy: 0.7545 - val_loss: 0.6218 - val_accuracy: 0.7127\n",
            "Epoch 34/100\n",
            "361/361 [==============================] - 1s 3ms/step - loss: 0.5482 - accuracy: 0.7537 - val_loss: 0.6229 - val_accuracy: 0.7081\n",
            "Epoch 35/100\n",
            "361/361 [==============================] - 1s 3ms/step - loss: 0.5482 - accuracy: 0.7524 - val_loss: 0.6238 - val_accuracy: 0.7085\n",
            "Epoch 36/100\n",
            "361/361 [==============================] - 1s 3ms/step - loss: 0.5505 - accuracy: 0.7521 - val_loss: 0.6540 - val_accuracy: 0.6968\n",
            "Epoch 37/100\n",
            "361/361 [==============================] - 1s 3ms/step - loss: 0.5516 - accuracy: 0.7507 - val_loss: 0.6151 - val_accuracy: 0.7150\n",
            "Epoch 38/100\n",
            "361/361 [==============================] - 1s 3ms/step - loss: 0.5471 - accuracy: 0.7542 - val_loss: 0.6256 - val_accuracy: 0.6999\n",
            "Epoch 39/100\n",
            "361/361 [==============================] - 1s 3ms/step - loss: 0.5462 - accuracy: 0.7539 - val_loss: 0.6278 - val_accuracy: 0.7004\n",
            "Epoch 40/100\n",
            "361/361 [==============================] - 1s 3ms/step - loss: 0.5475 - accuracy: 0.7562 - val_loss: 0.6357 - val_accuracy: 0.6973\n",
            "Epoch 41/100\n",
            "361/361 [==============================] - 1s 4ms/step - loss: 0.5477 - accuracy: 0.7540 - val_loss: 0.6241 - val_accuracy: 0.7127\n",
            "Epoch 42/100\n",
            "361/361 [==============================] - 1s 4ms/step - loss: 0.5469 - accuracy: 0.7566 - val_loss: 0.6182 - val_accuracy: 0.7151\n",
            "Epoch 43/100\n",
            "361/361 [==============================] - 1s 3ms/step - loss: 0.5508 - accuracy: 0.7511 - val_loss: 0.6164 - val_accuracy: 0.7155\n",
            "Epoch 44/100\n",
            "361/361 [==============================] - 1s 3ms/step - loss: 0.5496 - accuracy: 0.7510 - val_loss: 0.6356 - val_accuracy: 0.7009\n",
            "Epoch 45/100\n",
            "361/361 [==============================] - 1s 3ms/step - loss: 0.5495 - accuracy: 0.7536 - val_loss: 0.6262 - val_accuracy: 0.7114\n",
            "Epoch 46/100\n",
            "361/361 [==============================] - 1s 3ms/step - loss: 0.5452 - accuracy: 0.7557 - val_loss: 0.6398 - val_accuracy: 0.7047\n",
            "Epoch 47/100\n",
            "361/361 [==============================] - 1s 3ms/step - loss: 0.5475 - accuracy: 0.7556 - val_loss: 0.6336 - val_accuracy: 0.7036\n",
            "Epoch 48/100\n",
            "361/361 [==============================] - 1s 3ms/step - loss: 0.5444 - accuracy: 0.7584 - val_loss: 0.6255 - val_accuracy: 0.6994\n",
            "Epoch 49/100\n",
            "361/361 [==============================] - 1s 3ms/step - loss: 0.5446 - accuracy: 0.7555 - val_loss: 0.6223 - val_accuracy: 0.7042\n",
            "Epoch 50/100\n",
            "361/361 [==============================] - 1s 3ms/step - loss: 0.5449 - accuracy: 0.7558 - val_loss: 0.6189 - val_accuracy: 0.7206\n",
            "Epoch 51/100\n",
            "361/361 [==============================] - 1s 3ms/step - loss: 0.5475 - accuracy: 0.7538 - val_loss: 0.6297 - val_accuracy: 0.7099\n",
            "Epoch 52/100\n",
            "361/361 [==============================] - 1s 3ms/step - loss: 0.5456 - accuracy: 0.7543 - val_loss: 0.6320 - val_accuracy: 0.7074\n",
            "Epoch 53/100\n",
            "361/361 [==============================] - 1s 3ms/step - loss: 0.5467 - accuracy: 0.7536 - val_loss: 0.6205 - val_accuracy: 0.7145\n",
            "Epoch 54/100\n",
            "361/361 [==============================] - 1s 3ms/step - loss: 0.5419 - accuracy: 0.7579 - val_loss: 0.6299 - val_accuracy: 0.7101\n",
            "Epoch 55/100\n",
            "361/361 [==============================] - 1s 3ms/step - loss: 0.5463 - accuracy: 0.7555 - val_loss: 0.6196 - val_accuracy: 0.7107\n",
            "Epoch 56/100\n",
            "361/361 [==============================] - 1s 3ms/step - loss: 0.5469 - accuracy: 0.7541 - val_loss: 0.6229 - val_accuracy: 0.7173\n",
            "Epoch 57/100\n",
            "361/361 [==============================] - 1s 3ms/step - loss: 0.5451 - accuracy: 0.7543 - val_loss: 0.6256 - val_accuracy: 0.7144\n",
            "Epoch 58/100\n",
            "361/361 [==============================] - 1s 3ms/step - loss: 0.5487 - accuracy: 0.7533 - val_loss: 0.6152 - val_accuracy: 0.7150\n",
            "Epoch 59/100\n",
            "361/361 [==============================] - 1s 3ms/step - loss: 0.5446 - accuracy: 0.7551 - val_loss: 0.6309 - val_accuracy: 0.7054\n",
            "Epoch 60/100\n",
            "361/361 [==============================] - 1s 3ms/step - loss: 0.5427 - accuracy: 0.7555 - val_loss: 0.6160 - val_accuracy: 0.7150\n",
            "Epoch 61/100\n",
            "361/361 [==============================] - 1s 3ms/step - loss: 0.5491 - accuracy: 0.7533 - val_loss: 0.6175 - val_accuracy: 0.7143\n",
            "Epoch 62/100\n",
            "361/361 [==============================] - 1s 3ms/step - loss: 0.5432 - accuracy: 0.7570 - val_loss: 0.6217 - val_accuracy: 0.7150\n",
            "Epoch 63/100\n",
            "361/361 [==============================] - 1s 3ms/step - loss: 0.5392 - accuracy: 0.7599 - val_loss: 0.6188 - val_accuracy: 0.7181\n",
            "Epoch 64/100\n",
            "361/361 [==============================] - 1s 3ms/step - loss: 0.5447 - accuracy: 0.7555 - val_loss: 0.6248 - val_accuracy: 0.7104\n",
            "Epoch 65/100\n",
            "361/361 [==============================] - 1s 3ms/step - loss: 0.5447 - accuracy: 0.7554 - val_loss: 0.6148 - val_accuracy: 0.7166\n",
            "Epoch 66/100\n",
            "361/361 [==============================] - 1s 3ms/step - loss: 0.5441 - accuracy: 0.7546 - val_loss: 0.6219 - val_accuracy: 0.7102\n",
            "Epoch 67/100\n",
            "361/361 [==============================] - 1s 3ms/step - loss: 0.5399 - accuracy: 0.7598 - val_loss: 0.6184 - val_accuracy: 0.7076\n",
            "Epoch 68/100\n",
            "361/361 [==============================] - 1s 3ms/step - loss: 0.5440 - accuracy: 0.7557 - val_loss: 0.6146 - val_accuracy: 0.7200\n",
            "Epoch 69/100\n",
            "361/361 [==============================] - 1s 3ms/step - loss: 0.5458 - accuracy: 0.7544 - val_loss: 0.6238 - val_accuracy: 0.7140\n",
            "Epoch 70/100\n",
            "361/361 [==============================] - 1s 3ms/step - loss: 0.5425 - accuracy: 0.7572 - val_loss: 0.6215 - val_accuracy: 0.7184\n",
            "Epoch 71/100\n",
            "361/361 [==============================] - 1s 3ms/step - loss: 0.5406 - accuracy: 0.7571 - val_loss: 0.6240 - val_accuracy: 0.7162\n",
            "Epoch 72/100\n",
            "361/361 [==============================] - 1s 3ms/step - loss: 0.5433 - accuracy: 0.7572 - val_loss: 0.6217 - val_accuracy: 0.7149\n",
            "Epoch 73/100\n",
            "361/361 [==============================] - 1s 3ms/step - loss: 0.5456 - accuracy: 0.7550 - val_loss: 0.6246 - val_accuracy: 0.7124\n",
            "Epoch 74/100\n",
            "361/361 [==============================] - 1s 3ms/step - loss: 0.5467 - accuracy: 0.7518 - val_loss: 0.6253 - val_accuracy: 0.7127\n",
            "Epoch 75/100\n",
            "361/361 [==============================] - 1s 3ms/step - loss: 0.5464 - accuracy: 0.7562 - val_loss: 0.6189 - val_accuracy: 0.7183\n",
            "Epoch 76/100\n",
            "361/361 [==============================] - 1s 3ms/step - loss: 0.5447 - accuracy: 0.7551 - val_loss: 0.6221 - val_accuracy: 0.7167\n",
            "Epoch 77/100\n",
            "361/361 [==============================] - 1s 3ms/step - loss: 0.5409 - accuracy: 0.7600 - val_loss: 0.6226 - val_accuracy: 0.7043\n",
            "Epoch 78/100\n",
            "361/361 [==============================] - 1s 3ms/step - loss: 0.5445 - accuracy: 0.7544 - val_loss: 0.6217 - val_accuracy: 0.7178\n",
            "Epoch 79/100\n",
            "361/361 [==============================] - 1s 3ms/step - loss: 0.5421 - accuracy: 0.7573 - val_loss: 0.6472 - val_accuracy: 0.7020\n",
            "Epoch 80/100\n",
            "361/361 [==============================] - 1s 3ms/step - loss: 0.5440 - accuracy: 0.7546 - val_loss: 0.6160 - val_accuracy: 0.7105\n",
            "Epoch 81/100\n",
            "361/361 [==============================] - 1s 3ms/step - loss: 0.5427 - accuracy: 0.7591 - val_loss: 0.6295 - val_accuracy: 0.7069\n",
            "Epoch 82/100\n",
            "361/361 [==============================] - 1s 3ms/step - loss: 0.5442 - accuracy: 0.7570 - val_loss: 0.6409 - val_accuracy: 0.7040\n",
            "Epoch 83/100\n",
            "361/361 [==============================] - 1s 3ms/step - loss: 0.5445 - accuracy: 0.7554 - val_loss: 0.6282 - val_accuracy: 0.7038\n",
            "Epoch 84/100\n",
            "361/361 [==============================] - 1s 3ms/step - loss: 0.5417 - accuracy: 0.7580 - val_loss: 0.6281 - val_accuracy: 0.7017\n",
            "Epoch 85/100\n",
            "361/361 [==============================] - 1s 3ms/step - loss: 0.5446 - accuracy: 0.7552 - val_loss: 0.6226 - val_accuracy: 0.7163\n",
            "Epoch 86/100\n",
            "361/361 [==============================] - 1s 3ms/step - loss: 0.5444 - accuracy: 0.7559 - val_loss: 0.6190 - val_accuracy: 0.7110\n",
            "Epoch 87/100\n",
            "361/361 [==============================] - 1s 3ms/step - loss: 0.5440 - accuracy: 0.7563 - val_loss: 0.6253 - val_accuracy: 0.7002\n",
            "Epoch 88/100\n",
            "361/361 [==============================] - 1s 3ms/step - loss: 0.5459 - accuracy: 0.7545 - val_loss: 0.6133 - val_accuracy: 0.7228\n",
            "Epoch 89/100\n",
            "361/361 [==============================] - 1s 3ms/step - loss: 0.5447 - accuracy: 0.7564 - val_loss: 0.6379 - val_accuracy: 0.7123\n",
            "Epoch 90/100\n",
            "361/361 [==============================] - 1s 3ms/step - loss: 0.5471 - accuracy: 0.7576 - val_loss: 0.6224 - val_accuracy: 0.7149\n",
            "Epoch 91/100\n",
            "361/361 [==============================] - 1s 3ms/step - loss: 0.5438 - accuracy: 0.7567 - val_loss: 0.6364 - val_accuracy: 0.7004\n",
            "Epoch 92/100\n",
            "361/361 [==============================] - 1s 3ms/step - loss: 0.5439 - accuracy: 0.7571 - val_loss: 0.6285 - val_accuracy: 0.7070\n",
            "Epoch 93/100\n",
            "361/361 [==============================] - 1s 3ms/step - loss: 0.5448 - accuracy: 0.7565 - val_loss: 0.6288 - val_accuracy: 0.7059\n",
            "Epoch 94/100\n",
            "361/361 [==============================] - 1s 3ms/step - loss: 0.5423 - accuracy: 0.7562 - val_loss: 0.6302 - val_accuracy: 0.7091\n",
            "Epoch 95/100\n",
            "361/361 [==============================] - 1s 3ms/step - loss: 0.5410 - accuracy: 0.7596 - val_loss: 0.6491 - val_accuracy: 0.6938\n",
            "Epoch 96/100\n",
            "361/361 [==============================] - 1s 3ms/step - loss: 0.5452 - accuracy: 0.7553 - val_loss: 0.6347 - val_accuracy: 0.7074\n",
            "Epoch 97/100\n",
            "361/361 [==============================] - 1s 3ms/step - loss: 0.5421 - accuracy: 0.7591 - val_loss: 0.6157 - val_accuracy: 0.7216\n",
            "Epoch 98/100\n",
            "361/361 [==============================] - 1s 3ms/step - loss: 0.5467 - accuracy: 0.7531 - val_loss: 0.6339 - val_accuracy: 0.7072\n",
            "Epoch 99/100\n",
            "361/361 [==============================] - 1s 3ms/step - loss: 0.5442 - accuracy: 0.7566 - val_loss: 0.6267 - val_accuracy: 0.7040\n",
            "Epoch 100/100\n",
            "361/361 [==============================] - 1s 3ms/step - loss: 0.5427 - accuracy: 0.7569 - val_loss: 0.6156 - val_accuracy: 0.7185\n"
          ],
          "name": "stdout"
        }
      ]
    },
    {
      "cell_type": "code",
      "metadata": {
        "id": "_WNH9KLPEwN_",
        "colab_type": "code",
        "colab": {
          "base_uri": "https://localhost:8080/",
          "height": 90
        },
        "outputId": "1964938a-717e-4771-e82c-23c2933e2618"
      },
      "source": [
        "pred = model.predict_classes(xtest)"
      ],
      "execution_count": null,
      "outputs": [
        {
          "output_type": "stream",
          "text": [
            "WARNING:tensorflow:From <ipython-input-38-9d297bc68c07>:1: Sequential.predict_classes (from tensorflow.python.keras.engine.sequential) is deprecated and will be removed after 2021-01-01.\n",
            "Instructions for updating:\n",
            "Please use instead:* `np.argmax(model.predict(x), axis=-1)`,   if your model does multi-class classification   (e.g. if it uses a `softmax` last-layer activation).* `(model.predict(x) > 0.5).astype(\"int32\")`,   if your model does binary classification   (e.g. if it uses a `sigmoid` last-layer activation).\n"
          ],
          "name": "stdout"
        }
      ]
    },
    {
      "cell_type": "code",
      "metadata": {
        "id": "WZIEQJL2GFMd",
        "colab_type": "code",
        "colab": {}
      },
      "source": [
        "y_pred_keras = model.predict(xtest).ravel()\n",
        "fpr_keras, tpr_keras, thresholds_keras = roc_curve(ytest, y_pred_keras)\n",
        "auc_keras = auc(fpr_keras, tpr_keras)"
      ],
      "execution_count": null,
      "outputs": []
    },
    {
      "cell_type": "code",
      "metadata": {
        "id": "6_kje4zwG_vX",
        "colab_type": "code",
        "colab": {
          "base_uri": "https://localhost:8080/",
          "height": 295
        },
        "outputId": "f4fb18c3-f82d-473b-cf82-8db2ac3874cf"
      },
      "source": [
        "plt.figure(1)\n",
        "plt.plot([0, 1], [0, 1], 'k--')\n",
        "plt.plot(fpr_keras, tpr_keras, label='Keras (area = {:.3f})'.format(auc_keras))\n",
        "plt.plot(fpr_lr, tpr_lr, label='LR (area = {:.3f})'.format(auc_lr))\n",
        "plt.xlabel('False positive rate')\n",
        "plt.ylabel('True positive rate')\n",
        "plt.title('ROC curve')\n",
        "plt.legend(loc='best')\n",
        "plt.show()"
      ],
      "execution_count": null,
      "outputs": [
        {
          "output_type": "display_data",
          "data": {
            "image/png": "[encoded data removed]",
            "text/plain": [
              "<Figure size 432x288 with 1 Axes>"
            ]
          },
          "metadata": {
            "tags": [],
            "needs_background": "light"
          }
        }
      ]
    },
    {
      "cell_type": "markdown",
      "metadata": {
        "id": "DV3NFy8adp5L",
        "colab_type": "text"
      },
      "source": [
        "### Checking link predictions in the dataframe\n",
        "these phases of work are carried out using in the meantime the file WordEmbedding to get words"
      ]
    },
    {
      "cell_type": "code",
      "metadata": {
        "id": "WSjfKGIIFs4K",
        "colab_type": "code",
        "colab": {
          "base_uri": "https://localhost:8080/",
          "height": 369
        },
        "outputId": "26a25322-efc0-4de8-fbcd-4dd2e30a1476"
      },
      "source": [
        "# showing examples of predictions\n",
        "pred[0:20]"
      ],
      "execution_count": null,
      "outputs": [
        {
          "output_type": "execute_result",
          "data": {
            "text/plain": [
              "array([[0],\n",
              "       [1],\n",
              "       [0],\n",
              "       [1],\n",
              "       [1],\n",
              "       [1],\n",
              "       [0],\n",
              "       [0],\n",
              "       [0],\n",
              "       [0],\n",
              "       [1],\n",
              "       [0],\n",
              "       [1],\n",
              "       [0],\n",
              "       [0],\n",
              "       [0],\n",
              "       [1],\n",
              "       [0],\n",
              "       [0],\n",
              "       [1]], dtype=int32)"
            ]
          },
          "metadata": {
            "tags": []
          },
          "execution_count": 53
        }
      ]
    },
    {
      "cell_type": "code",
      "metadata": {
        "id": "QnpR5DGJJ5Qu",
        "colab_type": "code",
        "colab": {
          "base_uri": "https://localhost:8080/",
          "height": 35
        },
        "outputId": "5864363b-0ca0-4870-de0c-e2ba2ba514fc"
      },
      "source": [
        "xtest[2][0:300].mean()\n",
        "# to check what word corrispond, we used vector mean"
      ],
      "execution_count": null,
      "outputs": [
        {
          "output_type": "execute_result",
          "data": {
            "text/plain": [
              "-0.011751492818196615"
            ]
          },
          "metadata": {
            "tags": []
          },
          "execution_count": 58
        }
      ]
    },
    {
      "cell_type": "code",
      "metadata": {
        "id": "ZfStc6ndYG0p",
        "colab_type": "code",
        "colab": {
          "base_uri": "https://localhost:8080/",
          "height": 35
        },
        "outputId": "8f519193-e280-4ef0-b90c-cb398e2e1b4e"
      },
      "source": [
        "xtest[2][300:].mean()"
      ],
      "execution_count": null,
      "outputs": [
        {
          "output_type": "execute_result",
          "data": {
            "text/plain": [
              "-0.031591059366861976"
            ]
          },
          "metadata": {
            "tags": []
          },
          "execution_count": 60
        }
      ]
    },
    {
      "cell_type": "markdown",
      "metadata": {
        "id": "vd5vtiqds_3n",
        "colab_type": "text"
      },
      "source": [
        "### Checking link predictions with new words"
      ]
    },
    {
      "cell_type": "code",
      "metadata": {
        "id": "aSWripgDbyNf",
        "colab_type": "code",
        "colab": {}
      },
      "source": [
        "#create first word array\n",
        "sample_xtest_0 = np.array([ 5.78613281e-02,  1.36718750e-01,  1.69921875e-01,  7.27539062e-02,\n",
        "       -1.51367188e-01, -1.47247314e-03, -1.51367188e-01, -3.12500000e-01,\n",
        "       -7.12890625e-02,  2.61718750e-01,  2.33650208e-04, -6.07910156e-02,\n",
        "        9.52148438e-02, -1.12792969e-01, -5.81054688e-02,  4.58984375e-02,\n",
        "        1.89208984e-02, -2.39257812e-02,  4.98046875e-02,  1.61132812e-01,\n",
        "        1.25000000e-01,  1.63574219e-02,  1.85546875e-01, -6.49414062e-02,\n",
        "        2.61230469e-02,  5.41992188e-02, -5.22460938e-02,  3.36914062e-02,\n",
        "       -2.11914062e-01,  1.04492188e-01,  9.22851562e-02, -8.83789062e-02,\n",
        "       -2.67028809e-03,  1.14746094e-01, -4.19921875e-02, -2.38281250e-01,\n",
        "       -2.75390625e-01,  4.24804688e-02, -4.32128906e-02,  6.83593750e-02,\n",
        "        6.39648438e-02,  1.58203125e-01,  1.59179688e-01,  4.02832031e-02,\n",
        "       -3.20434570e-03,  1.81640625e-01, -1.86767578e-02,  3.59375000e-01,\n",
        "       -6.73828125e-02,  1.67968750e-01, -1.98242188e-01,  3.39843750e-01,\n",
        "        1.57470703e-02,  1.46484375e-02, -1.32812500e-01,  2.73437500e-01,\n",
        "       -3.04687500e-01, -8.25195312e-02, -1.26953125e-01, -9.17968750e-02,\n",
        "       -1.44531250e-01,  1.09252930e-02,  2.31933594e-02, -3.61328125e-01,\n",
        "       -2.18505859e-02, -1.27929688e-01,  6.59179688e-02, -2.77343750e-01,\n",
        "        2.91015625e-01, -5.78613281e-02, -1.03515625e-01, -2.11181641e-02,\n",
        "       -2.61718750e-01,  1.26953125e-01,  1.89208984e-02, -1.92382812e-01,\n",
        "       -2.16674805e-03, -2.67333984e-02, -6.50024414e-03,  1.25000000e-01,\n",
        "        2.41699219e-02, -2.15820312e-01,  8.05664062e-02, -3.39843750e-01,\n",
        "        3.03955078e-02, -2.25585938e-01, -1.73828125e-01,  4.58984375e-02,\n",
        "        1.62109375e-01,  1.93359375e-01,  1.24023438e-01, -1.21582031e-01,\n",
        "       -3.24218750e-01,  1.51367188e-01,  1.69677734e-02, -3.16406250e-01,\n",
        "       -6.20117188e-02, -5.11718750e-01,  1.54296875e-01, -6.34765625e-02,\n",
        "       -4.02343750e-01, -8.93554688e-02, -8.10546875e-02,  1.21093750e-01,\n",
        "        1.35742188e-01, -6.65283203e-03, -2.31933594e-02, -8.00781250e-02,\n",
        "        6.64062500e-02, -1.85546875e-02,  2.14843750e-01,  6.88476562e-02,\n",
        "        1.07421875e-01, -2.41210938e-01,  3.44238281e-02,  1.48315430e-02,\n",
        "       -7.61718750e-02,  7.41577148e-03,  5.15625000e-01,  1.45507812e-01,\n",
        "       -1.87500000e-01, -2.75390625e-01,  8.34960938e-02,  7.66601562e-02,\n",
        "        1.30859375e-01, -3.53515625e-01, -2.90527344e-02, -1.56250000e-01,\n",
        "       -5.85937500e-01,  2.35351562e-01, -1.63085938e-01, -2.73437500e-01,\n",
        "       -2.28515625e-01, -1.01562500e-01,  1.46484375e-01, -1.43554688e-01,\n",
        "       -1.08886719e-01,  6.25000000e-02,  4.19921875e-01, -2.30468750e-01,\n",
        "        3.55468750e-01, -1.11328125e-01,  1.39648438e-01,  2.35351562e-01,\n",
        "        2.32421875e-01,  1.42822266e-02, -3.29589844e-02,  2.24609375e-01,\n",
        "        8.54492188e-02, -1.51367188e-01,  5.46264648e-03,  9.03320312e-02,\n",
        "        7.12890625e-02,  5.12695312e-02,  1.05957031e-01, -1.76757812e-01,\n",
        "       -2.08007812e-01,  1.97265625e-01,  6.00585938e-02,  3.12500000e-01,\n",
        "        3.93066406e-02,  5.46875000e-02, -1.09252930e-02, -5.49316406e-02,\n",
        "        1.73828125e-01, -1.03027344e-01, -1.45263672e-02, -3.68652344e-02,\n",
        "        6.73828125e-02,  4.85839844e-02, -3.45703125e-01,  9.91210938e-02,\n",
        "       -5.29785156e-02,  1.34887695e-02, -9.17968750e-02, -1.41601562e-01,\n",
        "        1.45507812e-01,  5.52368164e-03,  7.22656250e-02,  2.90527344e-02,\n",
        "        4.90722656e-02, -3.53515625e-01, -8.10546875e-02,  5.02929688e-02,\n",
        "        2.61718750e-01,  8.74023438e-02,  1.76757812e-01, -4.22363281e-02,\n",
        "       -3.69140625e-01,  3.18527222e-04,  4.73632812e-02, -1.52343750e-01,\n",
        "        1.15234375e-01,  5.49316406e-02, -1.11328125e-01,  1.74804688e-01,\n",
        "        2.13867188e-01, -2.25830078e-02,  2.68554688e-02, -2.36328125e-01,\n",
        "        1.10839844e-01, -1.80664062e-02, -1.42578125e-01, -6.29882812e-02,\n",
        "        3.78417969e-02, -8.34960938e-02, -1.63085938e-01, -1.55273438e-01,\n",
        "       -6.34765625e-02, -9.76562500e-02, -5.44433594e-02, -1.43554688e-01,\n",
        "       -6.25000000e-02,  2.13867188e-01, -2.73437500e-01, -3.02124023e-03,\n",
        "       -4.11987305e-03,  1.33789062e-01,  3.10058594e-02, -1.40380859e-02,\n",
        "       -1.35498047e-02, -1.83593750e-01, -1.69921875e-01, -1.72851562e-01,\n",
        "       -1.91406250e-01,  1.20605469e-01, -2.99072266e-03,  1.19628906e-01,\n",
        "        2.28515625e-01,  6.49414062e-02, -1.93359375e-01,  1.63085938e-01,\n",
        "        8.44726562e-02, -3.29589844e-02, -4.94384766e-03,  1.02050781e-01,\n",
        "       -9.52148438e-02,  2.73437500e-01, -1.24511719e-01, -9.08203125e-02,\n",
        "        7.12890625e-02, -6.78710938e-02,  1.90429688e-01,  3.32031250e-01,\n",
        "       -8.39843750e-02, -9.88769531e-03, -7.42187500e-02, -1.72851562e-01,\n",
        "        1.92260742e-03, -8.05664062e-02,  3.04687500e-01,  2.86865234e-02,\n",
        "        1.44531250e-01,  1.40991211e-02,  2.81982422e-02,  2.50000000e-01,\n",
        "        1.09863281e-01, -1.04980469e-01,  1.57226562e-01,  2.73437500e-02,\n",
        "        1.15722656e-01,  8.98437500e-02,  2.51770020e-03,  2.79296875e-01,\n",
        "        1.98242188e-01, -6.73828125e-02, -3.47656250e-01,  7.44628906e-03,\n",
        "        5.59082031e-02, -1.11694336e-02,  3.00292969e-02,  8.39843750e-02,\n",
        "       -6.54296875e-02, -6.44531250e-02,  3.71093750e-01, -1.30615234e-02,\n",
        "       -1.27929688e-01,  2.24609375e-02, -8.48388672e-03,  2.55126953e-02,\n",
        "       -1.71875000e-01,  1.87500000e-01, -2.49023438e-02,  5.46264648e-03,\n",
        "       -3.06640625e-01,  9.57031250e-02,  2.09960938e-02,  8.72802734e-03,\n",
        "       -2.45117188e-01,  7.61718750e-02, -4.34570312e-02,  4.00390625e-02,\n",
        "       -3.32031250e-01,  1.01074219e-01,  4.34570312e-02,  2.61718750e-01,\n",
        "       -1.30859375e-01, -1.14257812e-01,  7.86132812e-02, -1.44531250e-01])"
      ],
      "execution_count": null,
      "outputs": []
    },
    {
      "cell_type": "code",
      "metadata": {
        "id": "dwyEbItgb8ip",
        "colab_type": "code",
        "colab": {}
      },
      "source": [
        "#create second word array\n",
        "sample_xtest_1 = np.array([ 1.30859375e-01, -7.71484375e-02, -1.33789062e-01,  2.17773438e-01,\n",
        "       -2.94921875e-01,  2.70996094e-02, -1.68945312e-01,  7.27539062e-02,\n",
        "        8.98437500e-02,  2.92968750e-01, -1.36718750e-01, -1.99218750e-01,\n",
        "        2.17285156e-02, -6.59179688e-02, -1.24511719e-01,  1.86523438e-01,\n",
        "       -8.59375000e-02, -1.22070312e-02,  6.34765625e-02, -1.26953125e-01,\n",
        "        2.61718750e-01, -2.69531250e-01, -1.00585938e-01,  1.05957031e-01,\n",
        "        5.44433594e-02,  6.93359375e-02, -7.89642334e-04,  3.59375000e-01,\n",
        "       -3.43750000e-01,  2.89062500e-01,  2.61718750e-01,  1.51367188e-01,\n",
        "       -3.44238281e-02, -1.06933594e-01,  2.57812500e-01, -3.28125000e-01,\n",
        "       -6.80541992e-03, -1.23535156e-01, -5.37109375e-02,  2.47070312e-01,\n",
        "        5.39550781e-02, -1.14257812e-01,  6.10351562e-02,  1.92382812e-01,\n",
        "       -3.14453125e-01, -2.87109375e-01, -5.05371094e-02,  3.69140625e-01,\n",
        "       -4.71191406e-02,  3.55468750e-01, -1.28906250e-01,  4.80468750e-01,\n",
        "       -1.14257812e-01, -3.00292969e-02, -8.25195312e-02,  9.76562500e-02,\n",
        "        1.56250000e-02,  5.24902344e-02, -4.41406250e-01, -1.92382812e-01,\n",
        "        3.68652344e-02, -8.54492188e-02,  1.95312500e-01, -1.20117188e-01,\n",
        "        3.00781250e-01, -7.66601562e-02, -1.41601562e-01,  1.57226562e-01,\n",
        "        3.49121094e-02, -1.77001953e-02,  3.00781250e-01, -2.08984375e-01,\n",
        "       -1.16210938e-01,  4.78515625e-02, -1.35742188e-01, -3.54003906e-03,\n",
        "        3.78906250e-01, -2.06054688e-01,  1.13769531e-01,  1.32812500e-01,\n",
        "       -2.67578125e-01, -1.60156250e-01,  5.81054688e-02, -6.83593750e-02,\n",
        "        6.12792969e-02, -2.01416016e-02, -1.13769531e-01,  1.16210938e-01,\n",
        "       -1.07421875e-01, -8.00781250e-02,  2.39257812e-01, -2.91015625e-01,\n",
        "        1.00585938e-01,  4.78515625e-02, -4.00390625e-01, -8.15429688e-02,\n",
        "        6.64062500e-02, -1.07910156e-01, -2.73437500e-01,  1.83593750e-01,\n",
        "       -1.29882812e-01, -4.27246094e-02, -2.06054688e-01, -1.17797852e-02,\n",
        "       -1.21093750e-01,  1.10839844e-01,  2.14843750e-01, -1.67968750e-01,\n",
        "       -1.06445312e-01,  1.72851562e-01,  1.18164062e-01, -9.86328125e-02,\n",
        "        4.35546875e-01,  9.15527344e-03, -1.75781250e-01, -1.53320312e-01,\n",
        "       -9.96093750e-02, -3.53515625e-01,  1.82617188e-01,  2.27539062e-01,\n",
        "       -4.62890625e-01, -2.15820312e-01,  2.94921875e-01, -6.54296875e-02,\n",
        "        4.41406250e-01, -1.82617188e-01, -1.88476562e-01, -3.56445312e-02,\n",
        "       -2.71484375e-01,  5.51757812e-02, -6.64062500e-02, -2.85156250e-01,\n",
        "       -1.23535156e-01,  7.12890625e-02,  1.40625000e-01,  4.33349609e-03,\n",
        "       -1.66992188e-01, -5.37109375e-02,  5.74218750e-01, -3.03955078e-02,\n",
        "       -1.32751465e-03, -8.39843750e-02, -1.74804688e-01, -1.57226562e-01,\n",
        "        2.65625000e-01, -6.10351562e-03,  4.10156250e-02,  1.38671875e-01,\n",
        "        2.51953125e-01, -1.63574219e-02,  2.73437500e-01,  3.43750000e-01,\n",
        "       -1.43554688e-01,  2.71484375e-01,  2.61718750e-01,  2.25585938e-01,\n",
        "        1.15966797e-02,  1.97265625e-01,  2.63671875e-01,  3.10546875e-01,\n",
        "       -9.17968750e-02, -1.16577148e-02, -2.08984375e-01, -2.67578125e-01,\n",
        "        9.13085938e-02,  6.64062500e-02,  6.54296875e-02, -2.81250000e-01,\n",
        "        1.26953125e-01, -9.08203125e-02, -1.66015625e-01,  5.41992188e-02,\n",
        "       -7.61718750e-02, -8.39843750e-02, -2.41210938e-01, -3.54003906e-02,\n",
        "        9.52148438e-02,  2.20947266e-02, -2.22167969e-02, -2.01171875e-01,\n",
        "        1.15234375e-01, -2.24609375e-01,  1.79443359e-02,  2.08007812e-01,\n",
        "       -3.66210938e-02, -2.05078125e-02,  2.00195312e-01, -6.49414062e-02,\n",
        "        1.40625000e-01, -3.18359375e-01,  4.45556641e-03, -4.00390625e-02,\n",
        "        3.14453125e-01,  2.94921875e-01, -2.28515625e-01,  5.20019531e-02,\n",
        "        2.05078125e-01,  8.83789062e-02,  2.36328125e-01, -9.91210938e-02,\n",
        "        1.03027344e-01, -2.73437500e-01, -1.63574219e-02,  3.90625000e-02,\n",
        "       -9.96093750e-02,  4.93164062e-02, -4.36401367e-03, -1.15722656e-01,\n",
        "        1.51367188e-01, -1.04003906e-01, -1.15356445e-02, -3.18359375e-01,\n",
        "       -2.21679688e-01,  9.76562500e-02, -2.79541016e-02,  3.12500000e-01,\n",
        "        2.83203125e-02,  1.97265625e-01, -4.30297852e-03, -1.18164062e-01,\n",
        "        3.75000000e-01, -6.15234375e-02, -2.08007812e-01, -3.30078125e-01,\n",
        "        6.34765625e-02,  1.63085938e-01, -2.00195312e-02,  3.51562500e-01,\n",
        "       -4.44335938e-02, -1.55273438e-01, -3.75000000e-01,  1.45507812e-01,\n",
        "        2.53906250e-02, -3.63281250e-01,  8.25195312e-02, -1.25976562e-01,\n",
        "        1.18652344e-01,  1.39648438e-01,  1.52343750e-01, -2.96875000e-01,\n",
        "        1.42578125e-01,  5.26428223e-04,  6.05468750e-02,  1.53320312e-01,\n",
        "       -2.67578125e-01,  2.96875000e-01,  2.19726562e-01, -1.64062500e-01,\n",
        "        1.66992188e-01, -1.30859375e-01,  2.69531250e-01,  2.28271484e-02,\n",
        "       -1.83105469e-02,  4.85839844e-02,  2.04101562e-01,  6.93359375e-02,\n",
        "        1.67968750e-01, -1.57470703e-02, -7.56835938e-02, -1.73339844e-02,\n",
        "        1.28906250e-01,  7.86132812e-02,  2.37304688e-01,  1.37695312e-01,\n",
        "        1.14257812e-01, -4.91333008e-03, -2.61718750e-01, -1.80664062e-01,\n",
        "        6.44531250e-02,  1.65039062e-01, -2.06054688e-01, -2.35595703e-02,\n",
        "       -2.55859375e-01,  1.84570312e-01, -1.96289062e-01,  2.51953125e-01,\n",
        "       -7.17773438e-02, -4.85229492e-03, -1.02050781e-01, -1.86523438e-01,\n",
        "       -1.67968750e-01,  2.25585938e-01,  1.61132812e-02,  1.69921875e-01,\n",
        "       -5.49316406e-02,  6.73828125e-02, -6.88476562e-02,  1.65039062e-01,\n",
        "       -3.67187500e-01,  3.22265625e-02, -1.38671875e-01, -2.04101562e-01,\n",
        "       -1.58203125e-01,  8.39843750e-02,  1.88476562e-01,  2.91015625e-01,\n",
        "       -2.51953125e-01, -8.49609375e-02, -3.29589844e-02, -1.11694336e-02])"
      ],
      "execution_count": null,
      "outputs": []
    },
    {
      "cell_type": "code",
      "metadata": {
        "id": "F78WB8_YcD4r",
        "colab_type": "code",
        "colab": {}
      },
      "source": [
        "sample_xtest = np.concatenate((sample_xtest_0, sample_xtest_1), 0)"
      ],
      "execution_count": null,
      "outputs": []
    },
    {
      "cell_type": "code",
      "metadata": {
        "id": "30Zjz3mlcQKZ",
        "colab_type": "code",
        "colab": {}
      },
      "source": [
        "sample_xtest = sample_xtest.reshape(1,600)"
      ],
      "execution_count": null,
      "outputs": []
    },
    {
      "cell_type": "code",
      "metadata": {
        "id": "p5cr6zz9cXQa",
        "colab_type": "code",
        "colab": {
          "base_uri": "https://localhost:8080/",
          "height": 35
        },
        "outputId": "f4dda3af-74b2-4792-d1a7-ed03cedbe964"
      },
      "source": [
        "#check if two words linked\n",
        "sample_pred = model.predict_classes(sample_xtest)\n",
        "sample_pred"
      ],
      "execution_count": null,
      "outputs": [
        {
          "output_type": "execute_result",
          "data": {
            "text/plain": [
              "array([[1]], dtype=int32)"
            ]
          },
          "metadata": {
            "tags": []
          },
          "execution_count": 81
        }
      ]
    }
  ]
}