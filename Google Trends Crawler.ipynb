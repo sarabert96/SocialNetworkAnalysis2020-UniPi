{
 "cells": [
  {
   "cell_type": "markdown",
   "metadata": {},
   "source": [
    "# Crawling Google Trends"
   ]
  },
  {
   "cell_type": "markdown",
   "metadata": {},
   "source": [
    "**pytrends** library is used to crawl the Google Trends data. "
   ]
  },
  {
   "cell_type": "code",
   "execution_count": 1,
   "metadata": {
    "colab": {
     "base_uri": "https://localhost:8080/",
     "height": 389
    },
    "colab_type": "code",
    "id": "rD07JRM-Yzid",
    "outputId": "aa227ca8-c04a-441d-9374-99d7ddcd6dd3"
   },
   "outputs": [
    {
     "name": "stdout",
     "output_type": "stream",
     "text": [
      "Collecting pytrends\n",
      "  Downloading https://files.pythonhosted.org/packages/74/a4/c1b1242be7d31650c6d9128a776c753db18f0e83290aaea0dd80dd31374b/pytrends-4.7.2.tar.gz\n",
      "Requirement already satisfied: requests in /usr/local/lib/python3.6/dist-packages (from pytrends) (2.21.0)\n",
      "Requirement already satisfied: pandas in /usr/local/lib/python3.6/dist-packages (from pytrends) (1.0.3)\n",
      "Requirement already satisfied: lxml in /usr/local/lib/python3.6/dist-packages (from pytrends) (4.2.6)\n",
      "Requirement already satisfied: idna<2.9,>=2.5 in /usr/local/lib/python3.6/dist-packages (from requests->pytrends) (2.8)\n",
      "Requirement already satisfied: certifi>=2017.4.17 in /usr/local/lib/python3.6/dist-packages (from requests->pytrends) (2020.4.5.1)\n",
      "Requirement already satisfied: urllib3<1.25,>=1.21.1 in /usr/local/lib/python3.6/dist-packages (from requests->pytrends) (1.24.3)\n",
      "Requirement already satisfied: chardet<3.1.0,>=3.0.2 in /usr/local/lib/python3.6/dist-packages (from requests->pytrends) (3.0.4)\n",
      "Requirement already satisfied: python-dateutil>=2.6.1 in /usr/local/lib/python3.6/dist-packages (from pandas->pytrends) (2.8.1)\n",
      "Requirement already satisfied: pytz>=2017.2 in /usr/local/lib/python3.6/dist-packages (from pandas->pytrends) (2018.9)\n",
      "Requirement already satisfied: numpy>=1.13.3 in /usr/local/lib/python3.6/dist-packages (from pandas->pytrends) (1.18.2)\n",
      "Requirement already satisfied: six>=1.5 in /usr/local/lib/python3.6/dist-packages (from python-dateutil>=2.6.1->pandas->pytrends) (1.12.0)\n",
      "Building wheels for collected packages: pytrends\n",
      "  Building wheel for pytrends (setup.py) ... \u001b[?25l\u001b[?25hdone\n",
      "  Created wheel for pytrends: filename=pytrends-4.7.2-cp36-none-any.whl size=14261 sha256=de84c26847eea452d74af413f9863e5c9f2c1478c67c1a2a8302011357c4a827\n",
      "  Stored in directory: /root/.cache/pip/wheels/64/ae/af/51d48fbbca0563036c6f80999b7ce3f097fa591fd165047baf\n",
      "Successfully built pytrends\n",
      "Installing collected packages: pytrends\n",
      "Successfully installed pytrends-4.7.2\n"
     ]
    }
   ],
   "source": [
    "pip install pytrends"
   ]
  },
  {
   "cell_type": "code",
   "execution_count": 1,
   "metadata": {
    "colab": {},
    "colab_type": "code",
    "id": "XQCtiw78Yyvh"
   },
   "outputs": [],
   "source": [
    "import numpy as np\n",
    "import pandas as pd\n",
    "import sys\n",
    "pd.options.display.max_colwidth = 100\n",
    "pd.options.mode.chained_assignment = None\n",
    "from pytrends.request import TrendReq"
   ]
  },
  {
   "cell_type": "markdown",
   "metadata": {},
   "source": [
    "First, let's get top 10 trending terms in 2019"
   ]
  },
  {
   "cell_type": "code",
   "execution_count": 0,
   "metadata": {
    "colab": {},
    "colab_type": "code",
    "id": "W_DiF9-fYyvm"
   },
   "outputs": [],
   "source": [
    "pytrends = TrendReq(hl='en-US', tz=360)"
   ]
  },
  {
   "cell_type": "code",
   "execution_count": 0,
   "metadata": {
    "colab": {},
    "colab_type": "code",
    "id": "reTfq5atYyvo"
   },
   "outputs": [],
   "source": [
    "date = 2019\n",
    "top_df = pytrends.top_charts(date, hl='en-US', tz=360, geo='GLOBAL')"
   ]
  },
  {
   "cell_type": "code",
   "execution_count": 0,
   "metadata": {
    "colab": {
     "base_uri": "https://localhost:8080/",
     "height": 357
    },
    "colab_type": "code",
    "id": "9scnwxpaYyvr",
    "outputId": "f0341356-34ee-4589-f380-41535545c479"
   },
   "outputs": [
    {
     "data": {
      "text/html": [
       "<div>\n",
       "<style scoped>\n",
       "    .dataframe tbody tr th:only-of-type {\n",
       "        vertical-align: middle;\n",
       "    }\n",
       "\n",
       "    .dataframe tbody tr th {\n",
       "        vertical-align: top;\n",
       "    }\n",
       "\n",
       "    .dataframe thead th {\n",
       "        text-align: right;\n",
       "    }\n",
       "</style>\n",
       "<table border=\"1\" class=\"dataframe\">\n",
       "  <thead>\n",
       "    <tr style=\"text-align: right;\">\n",
       "      <th></th>\n",
       "      <th>title</th>\n",
       "      <th>exploreQuery</th>\n",
       "    </tr>\n",
       "  </thead>\n",
       "  <tbody>\n",
       "    <tr>\n",
       "      <th>0</th>\n",
       "      <td>India vs South Africa</td>\n",
       "      <td></td>\n",
       "    </tr>\n",
       "    <tr>\n",
       "      <th>1</th>\n",
       "      <td>Cameron Boyce</td>\n",
       "      <td></td>\n",
       "    </tr>\n",
       "    <tr>\n",
       "      <th>2</th>\n",
       "      <td>Copa America</td>\n",
       "      <td></td>\n",
       "    </tr>\n",
       "    <tr>\n",
       "      <th>3</th>\n",
       "      <td>Bangladesh vs India</td>\n",
       "      <td></td>\n",
       "    </tr>\n",
       "    <tr>\n",
       "      <th>4</th>\n",
       "      <td>iPhone 11</td>\n",
       "      <td></td>\n",
       "    </tr>\n",
       "    <tr>\n",
       "      <th>5</th>\n",
       "      <td>Game of Thrones</td>\n",
       "      <td></td>\n",
       "    </tr>\n",
       "    <tr>\n",
       "      <th>6</th>\n",
       "      <td>Avengers: Endgame</td>\n",
       "      <td></td>\n",
       "    </tr>\n",
       "    <tr>\n",
       "      <th>7</th>\n",
       "      <td>Joker</td>\n",
       "      <td></td>\n",
       "    </tr>\n",
       "    <tr>\n",
       "      <th>8</th>\n",
       "      <td>Notre Dame</td>\n",
       "      <td></td>\n",
       "    </tr>\n",
       "    <tr>\n",
       "      <th>9</th>\n",
       "      <td>ICC Cricket World Cup</td>\n",
       "      <td></td>\n",
       "    </tr>\n",
       "  </tbody>\n",
       "</table>\n",
       "</div>"
      ],
      "text/plain": [
       "                   title exploreQuery\n",
       "0  India vs South Africa             \n",
       "1          Cameron Boyce             \n",
       "2           Copa America             \n",
       "3    Bangladesh vs India             \n",
       "4              iPhone 11             \n",
       "5        Game of Thrones             \n",
       "6      Avengers: Endgame             \n",
       "7                  Joker             \n",
       "8             Notre Dame             \n",
       "9  ICC Cricket World Cup             "
      ]
     },
     "execution_count": 5,
     "metadata": {
      "tags": []
     },
     "output_type": "execute_result"
    }
   ],
   "source": [
    "top_df"
   ]
  },
  {
   "cell_type": "code",
   "execution_count": 0,
   "metadata": {
    "colab": {},
    "colab_type": "code",
    "id": "ExPdSo9_Yyvw"
   },
   "outputs": [],
   "source": [
    "kw_list = top_df.title.values.tolist()"
   ]
  },
  {
   "cell_type": "code",
   "execution_count": 29,
   "metadata": {
    "colab": {},
    "colab_type": "code",
    "id": "mj9sEjmBYyv1"
   },
   "outputs": [],
   "source": [
    "def remove_repetition(input_term, related_list):\n",
    "    the_list = []\n",
    "    for i in related_list:\n",
    "        if input_term.lower() != i.lower():\n",
    "            the_list.append(i)\n",
    "    return list(dict.fromkeys(the_list))"
   ]
  },
  {
   "cell_type": "code",
   "execution_count": 30,
   "metadata": {
    "colab": {},
    "colab_type": "code",
    "id": "Yuf7nt9WYyv4"
   },
   "outputs": [],
   "source": [
    "def get_list(input_term):\n",
    "    kw_list = [input_term]\n",
    "    pytrends = TrendReq(hl='en-US', tz=360)\n",
    "    pytrends.build_payload(kw_list, cat=0, timeframe='2019-01-01 2019-12-31', geo='', gprop='')\n",
    "    temp_dict = pytrends.related_topics()\n",
    "    related_list = [] if temp_dict[list(temp_dict.keys())[0]]['top'].empty else temp_dict[list(temp_dict.keys())[0]]['top']['topic_title'].values.tolist()\n",
    "    related_list = remove_repetition(input_term, related_list)\n",
    "    #return related_list\n",
    "    return related_list[0:5]"
   ]
  },
  {
   "cell_type": "code",
   "execution_count": 31,
   "metadata": {
    "colab": {},
    "colab_type": "code",
    "id": "8qhAsf8-Yyv6"
   },
   "outputs": [],
   "source": [
    "def global_append(input_term, related_list, nodes):\n",
    "    result_list = edges\n",
    "    nodes.append(input_term)\n",
    "    nodes = list(dict.fromkeys(nodes))\n",
    "    for i in related_list:\n",
    "        item = [input_term, i]\n",
    "        result_list.append(item)\n",
    "    return result_list"
   ]
  },
  {
   "cell_type": "code",
   "execution_count": 32,
   "metadata": {
    "colab": {},
    "colab_type": "code",
    "id": "J-9bhmPHYyv9"
   },
   "outputs": [],
   "source": [
    "def exist(input_term, nodes):\n",
    "    if input_term in nodes:\n",
    "        return True\n",
    "    else:\n",
    "        return False"
   ]
  },
  {
   "cell_type": "code",
   "execution_count": 2,
   "metadata": {
    "colab": {},
    "colab_type": "code",
    "id": "vGRww55VYywF"
   },
   "outputs": [],
   "source": [
    "edges = []\n",
    "global_save = []\n",
    "nodes = []"
   ]
  },
  {
   "cell_type": "code",
   "execution_count": 35,
   "metadata": {
    "colab": {},
    "colab_type": "code",
    "id": "-bmZJqNyYywI"
   },
   "outputs": [],
   "source": [
    "def save(current_list):\n",
    "    global global_save\n",
    "    global_save.extend(current_list)"
   ]
  },
  {
   "cell_type": "code",
   "execution_count": 0,
   "metadata": {
    "colab": {
     "base_uri": "https://localhost:8080/",
     "height": 193
    },
    "colab_type": "code",
    "id": "a7dNuztLYywM",
    "outputId": "794e93b7-0016-4a32-ca8d-a6dcc05d5616"
   },
   "outputs": [
    {
     "data": {
      "text/plain": [
       "['India vs South Africa',\n",
       " 'Cameron Boyce',\n",
       " 'Copa America',\n",
       " 'Bangladesh vs India',\n",
       " 'iPhone 11',\n",
       " 'Game of Thrones',\n",
       " 'Avengers: Endgame',\n",
       " 'Joker',\n",
       " 'Notre Dame',\n",
       " 'ICC Cricket World Cup']"
      ]
     },
     "execution_count": 13,
     "metadata": {
      "tags": []
     },
     "output_type": "execute_result"
    }
   ],
   "source": [
    "kw_list"
   ]
  },
  {
   "cell_type": "code",
   "execution_count": 49,
   "metadata": {
    "colab": {},
    "colab_type": "code",
    "id": "zuRiVT_bYywR"
   },
   "outputs": [],
   "source": [
    "def breath_first_look_up(kw_list, nodes):\n",
    "    queue = kw_list\n",
    "    global edges\n",
    "    while len(nodes) <= 15000:\n",
    "        current_item = queue.pop(0)\n",
    "        if not exist(current_item, nodes):\n",
    "            if(len(nodes) % 20 == 0):\n",
    "                n_edges = \"edges: \" + str(len(edges))\n",
    "                n_nodes = \"nodes: \" + str(len(nodes))\n",
    "                print(n_edges + \" , \" + n_nodes)\n",
    "            current_list = get_list(current_item)\n",
    "            edges = global_append(current_item, current_list, nodes)\n",
    "            save(current_list)\n",
    "            queue.extend(current_list)"
   ]
  },
  {
   "cell_type": "code",
   "execution_count": 3,
   "metadata": {
    "colab": {},
    "colab_type": "code",
    "id": "84BLmvdQYywa"
   },
   "outputs": [],
   "source": [
    "def load():\n",
    "    global global_save\n",
    "    global nodes\n",
    "    global edges\n",
    "    save_file = open(\"save.txt\",\"r\" , encoding=\"utf-8\")\n",
    "    node_file = open(\"nodes.csv\", \"r\", encoding=\"utf-8\")\n",
    "    edge_file = open(\"edges.csv\", \"r\", encoding=\"utf-8\")\n",
    "    global_save = save_file.read().split('\\n')\n",
    "    nodes = node_file.read().split('\\n')\n",
    "    edge_list = edge_file.read().split('\\n')\n",
    "    for i in edge_list:\n",
    "        edges.append([i.split(',')[0], i.split(',')[1]])\n",
    "    save_file.close()\n",
    "    node_file.close()\n",
    "    edge_file.close()\n",
    "    breath_first_look_up(global_save, nodes)"
   ]
  },
  {
   "cell_type": "code",
   "execution_count": 39,
   "metadata": {
    "colab": {},
    "colab_type": "code",
    "id": "q9JNdyrTYywY"
   },
   "outputs": [],
   "source": [
    "def resume():\n",
    "    try:\n",
    "        load()\n",
    "    except Exception as e: \n",
    "        print(e)\n",
    "        file = open(\"edges.csv\",\"a+\", encoding=\"utf-8\")\n",
    "        for i in edges:\n",
    "            file.write(i[0] + \",\" + i[1]+ \"\\n\")\n",
    "        file.close()\n",
    "        file = open(\"nodes.csv\",\"a+\", encoding=\"utf-8\")\n",
    "        for i in nodes:\n",
    "            file.write(i + \"\\n\")\n",
    "        file.close()\n",
    "        file = open(\"save.txt\",\"a+\", encoding=\"utf-8\")\n",
    "        for i in global_save:\n",
    "            file.write(str(i) + \"\\n\")\n",
    "        file.close()"
   ]
  },
  {
   "cell_type": "code",
   "execution_count": 51,
   "metadata": {
    "colab": {
     "base_uri": "https://localhost:8080/",
     "height": 52
    },
    "colab_type": "code",
    "id": "hvXwl4r2fL8a",
    "outputId": "a552f6ee-b932-4c97-994c-b7c04f39d367"
   },
   "outputs": [
    {
     "name": "stdout",
     "output_type": "stream",
     "text": [
      "edges: 45621 , nodes: 4660\n",
      "edges: 45720 , nodes: 4680\n",
      "edges: 45816 , nodes: 4700\n",
      "edges: 45906 , nodes: 4720\n",
      "edges: 46006 , nodes: 4740\n",
      "edges: 46102 , nodes: 4760\n",
      "edges: 46195 , nodes: 4780\n",
      "edges: 46281 , nodes: 4800\n",
      "edges: 46376 , nodes: 4820\n",
      "edges: 46476 , nodes: 4840\n",
      "edges: 46563 , nodes: 4860\n",
      "edges: 46663 , nodes: 4880\n",
      "edges: 46763 , nodes: 4900\n",
      "edges: 46857 , nodes: 4920\n",
      "edges: 46955 , nodes: 4940\n",
      "edges: 47055 , nodes: 4960\n",
      "edges: 47155 , nodes: 4980\n",
      "edges: 47254 , nodes: 5000\n",
      "edges: 47354 , nodes: 5020\n",
      "edges: 47450 , nodes: 5040\n",
      "edges: 47550 , nodes: 5060\n",
      "edges: 47645 , nodes: 5080\n",
      "edges: 47745 , nodes: 5100\n",
      "edges: 47845 , nodes: 5120\n",
      "edges: 47942 , nodes: 5140\n",
      "edges: 48029 , nodes: 5160\n",
      "edges: 48127 , nodes: 5180\n",
      "edges: 48223 , nodes: 5200\n",
      "edges: 48322 , nodes: 5220\n",
      "edges: 48417 , nodes: 5240\n",
      "edges: 48512 , nodes: 5260\n",
      "edges: 48599 , nodes: 5280\n",
      "edges: 48675 , nodes: 5300\n",
      "edges: 48765 , nodes: 5320\n",
      "edges: 48864 , nodes: 5340\n",
      "edges: 48964 , nodes: 5360\n",
      "edges: 49060 , nodes: 5380\n",
      "edges: 49155 , nodes: 5400\n",
      "edges: 49255 , nodes: 5420\n",
      "edges: 49350 , nodes: 5440\n",
      "edges: 49441 , nodes: 5460\n",
      "edges: 49541 , nodes: 5480\n",
      "edges: 49641 , nodes: 5500\n",
      "edges: 49740 , nodes: 5520\n",
      "edges: 49840 , nodes: 5540\n",
      "edges: 49940 , nodes: 5560\n",
      "edges: 50037 , nodes: 5580\n",
      "edges: 50137 , nodes: 5600\n",
      "edges: 50235 , nodes: 5620\n",
      "edges: 50322 , nodes: 5640\n",
      "edges: 50420 , nodes: 5660\n",
      "edges: 50506 , nodes: 5680\n",
      "edges: 50606 , nodes: 5700\n",
      "edges: 50705 , nodes: 5720\n",
      "edges: 50805 , nodes: 5740\n",
      "edges: 50897 , nodes: 5760\n",
      "edges: 50988 , nodes: 5780\n",
      "HTTPSConnectionPool(host='trends.google.com', port=443): Read timed out. (read timeout=5)\n"
     ]
    }
   ],
   "source": [
    "resume()"
   ]
  },
  {
   "cell_type": "code",
   "execution_count": 0,
   "metadata": {
    "colab": {},
    "colab_type": "code",
    "id": "jrTscFrBj_7L"
   },
   "outputs": [],
   "source": [
    "def write():\n",
    "    file = open(\"edges.csv\",\"a+\")\n",
    "    for i in edges:\n",
    "        file.write(i[0] + \",\" + i[1]+ \"\\n\")\n",
    "    file.close()\n",
    "    file = open(\"nodes.csv\",\"a+\")\n",
    "    for i in nodes:\n",
    "        file.write(i + \"\\n\")\n",
    "    file.close()\n",
    "    file = open(\"save.txt\",\"a+\")\n",
    "    for i in global_save:\n",
    "        file.write(str(i) + \"\\n\")\n",
    "    file.close()"
   ]
  },
  {
   "cell_type": "code",
   "execution_count": 0,
   "metadata": {
    "colab": {},
    "colab_type": "code",
    "id": "Oixg49QxkLKw"
   },
   "outputs": [],
   "source": [
    "write()"
   ]
  }
 ],
 "metadata": {
  "colab": {
   "collapsed_sections": [],
   "name": "SNA.ipynb",
   "provenance": []
  },
  "kernelspec": {
   "display_name": "Python 3",
   "language": "python",
   "name": "python3"
  },
  "language_info": {
   "codemirror_mode": {
    "name": "ipython",
    "version": 3
   },
   "file_extension": ".py",
   "mimetype": "text/x-python",
   "name": "python",
   "nbconvert_exporter": "python",
   "pygments_lexer": "ipython3",
   "version": "3.7.5"
  }
 },
 "nbformat": 4,
 "nbformat_minor": 1
}
