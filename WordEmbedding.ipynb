{
  "nbformat": 4,
  "nbformat_minor": 0,
  "metadata": {
    "colab": {
      "name": "WordEmbedding.ipynb",
      "provenance": [],
      "collapsed_sections": []
    },
    "kernelspec": {
      "name": "python3",
      "display_name": "Python 3"
    }
  },
  "cells": [
    {
      "cell_type": "code",
      "metadata": {
        "id": "xoRM8WxBVEMk",
        "colab_type": "code",
        "colab": {}
      },
      "source": [
        "from gensim.models import Word2Vec\n",
        "from sklearn.decomposition import PCA\n",
        "from matplotlib import pyplot\n",
        "from gensim.models import KeyedVectors\n",
        "import pandas as pd\n",
        "import numpy as np\n",
        "import time\n",
        "import random\n",
        "from numpy.testing import assert_almost_equal"
      ],
      "execution_count": 85,
      "outputs": []
    },
    {
      "cell_type": "code",
      "metadata": {
        "id": "QzUi4iHkWhoK",
        "colab_type": "code",
        "colab": {}
      },
      "source": [
        "import urllib.request\n",
        "import os\n",
        "\n",
        "def download_file(url, local_file):\n",
        "    \"\"\"\n",
        "    Helper function to download a file and store it locally\n",
        "    \"\"\"\n",
        "    if not os.path.exists(local_file):\n",
        "        print('Downloading')\n",
        "        with urllib.request.urlopen(url) as opener, \\\n",
        "             open(local_file, mode='wb') as outfile:\n",
        "                    outfile.write(opener.read())\n",
        "    else:\n",
        "        print('Already downloaded')"
      ],
      "execution_count": 14,
      "outputs": []
    },
    {
      "cell_type": "code",
      "metadata": {
        "id": "smRI9uGrWjWW",
        "colab_type": "code",
        "colab": {
          "base_uri": "https://localhost:8080/",
          "height": 35
        },
        "outputId": "67b8f2cc-dde7-46c3-e5d7-9041295d2b64"
      },
      "source": [
        "google_w2v_file = 'data/GoogleNews-vectors-negative300.bin'\n",
        "download_file('https://s3.amazonaws.com/dl4j-distribution/GoogleNews-vectors-negative300.bin.gz',\n",
        "              google_w2v_file+'.gz')"
      ],
      "execution_count": 15,
      "outputs": [
        {
          "output_type": "stream",
          "text": [
            "Downloading\n"
          ],
          "name": "stdout"
        }
      ]
    },
    {
      "cell_type": "code",
      "metadata": {
        "id": "RiRi1i-6itgj",
        "colab_type": "code",
        "colab": {}
      },
      "source": [
        "!if [ ! -f data/GoogleNews-vectors-negative300.bin ]; then gunzip data/GoogleNews-vectors-negative300.bin.gz; fi"
      ],
      "execution_count": 16,
      "outputs": []
    },
    {
      "cell_type": "code",
      "metadata": {
        "id": "zVphyxCQW0gO",
        "colab_type": "code",
        "colab": {
          "base_uri": "https://localhost:8080/",
          "height": 72
        },
        "outputId": "56848d4c-a185-4eaa-84c4-60146ef8e6db"
      },
      "source": [
        "news_model = KeyedVectors.load_word2vec_format(google_w2v_file, binary=True)"
      ],
      "execution_count": 17,
      "outputs": [
        {
          "output_type": "stream",
          "text": [
            "/usr/local/lib/python3.6/dist-packages/smart_open/smart_open_lib.py:253: UserWarning: This function is deprecated, use smart_open.open instead. See the migration notes for details: https://github.com/RaRe-Technologies/smart_open/blob/master/README.rst#migrating-to-the-new-open-function\n",
            "  'See the migration notes for details: %s' % _MIGRATION_NOTES_URL\n"
          ],
          "name": "stderr"
        }
      ]
    },
    {
      "cell_type": "code",
      "metadata": {
        "id": "6VRxZIuRqJ9C",
        "colab_type": "code",
        "colab": {}
      },
      "source": [
        "df = pd.read_csv('edges.csv', header=None)"
      ],
      "execution_count": 18,
      "outputs": []
    },
    {
      "cell_type": "code",
      "metadata": {
        "id": "8FFVuh0tqpBP",
        "colab_type": "code",
        "colab": {}
      },
      "source": [
        "np.random.seed(100)\n",
        "vectors = {}\n",
        "unknown_vector = np.random.rand(300)"
      ],
      "execution_count": 19,
      "outputs": []
    },
    {
      "cell_type": "markdown",
      "metadata": {
        "id": "5e1xBX1aY-XW",
        "colab_type": "text"
      },
      "source": [
        "Checking different link predictions"
      ]
    },
    {
      "cell_type": "code",
      "metadata": {
        "id": "SKUfSC2LQIx9",
        "colab_type": "code",
        "colab": {}
      },
      "source": [
        "# link 1\n",
        "array_0 = -0.017254869469058274 #Peanut butter cookie\n",
        "array_1 = -0.012768545150756837 #Cookie"
      ],
      "execution_count": 109,
      "outputs": []
    },
    {
      "cell_type": "code",
      "metadata": {
        "id": "x1blD5oUY6Jp",
        "colab_type": "code",
        "colab": {}
      },
      "source": [
        "# link 1\n",
        "array_0 = 0.009587866465250651 #PricewaterhouseCoopers\n",
        "array_1 = -0.018883171081542968 #Pakistan"
      ],
      "execution_count": 107,
      "outputs": []
    },
    {
      "cell_type": "code",
      "metadata": {
        "id": "82kQ0vlxZrSE",
        "colab_type": "code",
        "colab": {}
      },
      "source": [
        "# link 1\n",
        "array_0 = -0.013354159493367964 #Internet service provider\n",
        "array_1 = -0.0011646270751953125 #Camcorder"
      ],
      "execution_count": 112,
      "outputs": []
    },
    {
      "cell_type": "code",
      "metadata": {
        "id": "Q0Bz8-hyag9V",
        "colab_type": "code",
        "colab": {}
      },
      "source": [
        "# link 0\n",
        "array_0 = -0.007197036743164063 #Makita\n",
        "array_1 = 0.008356563250223796 #Stranger Things"
      ],
      "execution_count": 114,
      "outputs": []
    },
    {
      "cell_type": "code",
      "metadata": {
        "id": "0Iu6mutKatMr",
        "colab_type": "code",
        "colab": {}
      },
      "source": [
        "# link 0\n",
        "array_0 = -0.011751492818196615#Spartanburg\n",
        "array_1 = -0.031591059366861976 #iPhone"
      ],
      "execution_count": 116,
      "outputs": []
    },
    {
      "cell_type": "code",
      "metadata": {
        "id": "jl4k0CLRXh2X",
        "colab_type": "code",
        "colab": {}
      },
      "source": [
        "def check(a, b):\n",
        "    try:\n",
        "        assert_almost_equal(a, b)\n",
        "        return True\n",
        "    except:\n",
        "        return False"
      ],
      "execution_count": 90,
      "outputs": []
    },
    {
      "cell_type": "code",
      "metadata": {
        "id": "8TKNTJwUPqCF",
        "colab_type": "code",
        "colab": {}
      },
      "source": [
        "def look_up(input_array_mean):\n",
        "    for name, array in vectors.items():  # Searching in dictionary to find specific array\n",
        "        if check(array.mean(), input_array_mean):\n",
        "            print(name)"
      ],
      "execution_count": 104,
      "outputs": []
    },
    {
      "cell_type": "code",
      "metadata": {
        "id": "OmdXcoehQhZV",
        "colab_type": "code",
        "colab": {
          "base_uri": "https://localhost:8080/",
          "height": 52
        },
        "outputId": "839fe09a-58cc-4f06-bded-b5a738133463"
      },
      "source": [
        "look_up(array_0)\n",
        "look_up(array_1)"
      ],
      "execution_count": 117,
      "outputs": [
        {
          "output_type": "stream",
          "text": [
            "Spartanburg\n",
            "iPhone\n"
          ],
          "name": "stdout"
        }
      ]
    },
    {
      "cell_type": "code",
      "metadata": {
        "id": "OrUUIgLxhjeG",
        "colab_type": "code",
        "colab": {}
      },
      "source": [
        "def epoch_time(start_time, end_time):\n",
        "    elapsed_time = end_time - start_time\n",
        "    elapsed_mins = int(elapsed_time / 60)\n",
        "    elapsed_secs = int(elapsed_time - (elapsed_mins * 60))\n",
        "    return elapsed_mins, elapsed_secs"
      ],
      "execution_count": 20,
      "outputs": []
    },
    {
      "cell_type": "code",
      "metadata": {
        "id": "yCiumVsYx9om",
        "colab_type": "code",
        "colab": {}
      },
      "source": [
        "def create_vector(input):\n",
        "    avg_vec=[]\n",
        "    for i in input.split():\n",
        "        try:\n",
        "            avg_vec.append(news_model.word_vec(i))\n",
        "        except:\n",
        "            # unk value assigned to unk words\n",
        "            avg_vec.append(unknown_vector)\n",
        "    return np.mean(avg_vec, axis=0)"
      ],
      "execution_count": 21,
      "outputs": []
    },
    {
      "cell_type": "code",
      "metadata": {
        "id": "kLFOpJOIqg_3",
        "colab_type": "code",
        "colab": {
          "base_uri": "https://localhost:8080/",
          "height": 52
        },
        "outputId": "4def2243-e9d8-4214-9f02-afe1566f1000"
      },
      "source": [
        "start_time = time.time()\n",
        "new_df = pd.DataFrame(columns=[\"first\", \"second\", \"link\"])\n",
        "for i in range(df.shape[0]):\n",
        "    #print(str(i)+\" \", end='')\n",
        "    first = df.loc[i][0]\n",
        "    second = df.loc[i][1]\n",
        "    # check if vector already in dictionary\n",
        "    if first in vectors:\n",
        "        #if yes, insert in new df\n",
        "        new_df.loc[i, 'first'] = vectors[first]\n",
        "    else:\n",
        "        try:\n",
        "            vector = news_model.word_vec(first.replace(\" \", \"_\"))\n",
        "        except:\n",
        "            vector = create_vector(first)\n",
        "        #insert vector in dictionary\n",
        "        vectors[first] = vector\n",
        "        new_df.loc[i, 'first'] = vector\n",
        "    # do the same 4 second \n",
        "    if second in vectors:\n",
        "        new_df.loc[i, 'second'] = vectors[second]\n",
        "    else:\n",
        "        try:\n",
        "            vector = news_model.word_vec(second.replace(\" \", \"_\"))\n",
        "        except:\n",
        "            vector = create_vector(second)\n",
        "        vectors[second] = vector\n",
        "        new_df.loc[i, 'second'] = vector\n",
        "    new_df.loc[i, 'link'] = 1\n",
        "\n",
        "end_time = time.time()\n",
        "epoch_mins, epoch_secs = epoch_time(start_time, end_time)\n",
        "print(f'\\nTime: {epoch_mins}m {epoch_secs}s')"
      ],
      "execution_count": 22,
      "outputs": [
        {
          "output_type": "stream",
          "text": [
            "\n",
            "Time: 4m 19s\n"
          ],
          "name": "stdout"
        }
      ]
    },
    {
      "cell_type": "code",
      "metadata": {
        "id": "qdV7YjQ4kLkX",
        "colab_type": "code",
        "colab": {}
      },
      "source": [
        "temp = df[df[0] == \"All-star game\"] \n",
        "temp\n",
        "#temp[temp[1] == 'Tefdgfdgdst'].shape[0]"
      ],
      "execution_count": null,
      "outputs": []
    },
    {
      "cell_type": "code",
      "metadata": {
        "id": "BbodZPftlM7q",
        "colab_type": "code",
        "colab": {
          "base_uri": "https://localhost:8080/",
          "height": 52
        },
        "outputId": "1b78fce0-eff4-4e3a-be54-ddfcf50537d5"
      },
      "source": [
        "start_time = time.time()\n",
        "df_0 = pd.DataFrame(columns=[\"first\", \"second\", \"link\"])\n",
        "for i, v in enumerate(range(new_df.shape[0])):\n",
        "    #print(str(i)+\" \", end='')\n",
        "    #we select a random value to choose from df\n",
        "    random_num = random.randint(0, df.shape[0]-1)\n",
        "    #we take the random first vector\n",
        "    first = df.iloc[random_num][0]\n",
        "    random_num = random.randint(0, df.shape[0]-1)\n",
        "    second = df.iloc[random_num][1]\n",
        "\n",
        "    #we check if the two words exist in original df\n",
        "    temp = df[df[0] == first] \n",
        "    condition = temp[temp[1] == second].shape[0] \n",
        "    if not condition:\n",
        "        df_0.loc[i] = [first, second, 0]\n",
        "end_time = time.time()\n",
        "epoch_mins, epoch_secs = epoch_time(start_time, end_time)\n",
        "print(f'\\nTime: {epoch_mins}m {epoch_secs}s')"
      ],
      "execution_count": null,
      "outputs": [
        {
          "output_type": "stream",
          "text": [
            "\n",
            "Time: 18m 10s\n"
          ],
          "name": "stdout"
        }
      ]
    },
    {
      "cell_type": "code",
      "metadata": {
        "id": "EHx3ScL94Yf3",
        "colab_type": "code",
        "colab": {}
      },
      "source": [
        "# resetting id for problem of link 1\n",
        "df_0.reset_index(inplace=True, drop=True)"
      ],
      "execution_count": null,
      "outputs": []
    },
    {
      "cell_type": "code",
      "metadata": {
        "id": "vyBDUbjwwXQl",
        "colab_type": "code",
        "colab": {}
      },
      "source": [
        "start_time = time.time()\n",
        "vec_df_0 = pd.DataFrame(columns=[\"first\", \"second\", \"link\"])\n",
        "for i in range(df_0.shape[0]):\n",
        "    print(str(i)+\" \", end='')\n",
        "    first = df_0.loc[i][0]\n",
        "    second = df_0.loc[i][1]\n",
        "    # check if vector already in dictionary\n",
        "    if first in vectors:\n",
        "        #if yes, insert in new df\n",
        "        vec_df_0.loc[i, 'first'] = vectors[first]\n",
        "    else:\n",
        "        try:\n",
        "            vector = news_model.word_vec(first.replace(\" \", \"_\"))\n",
        "        except:\n",
        "            vector = create_vector(first)\n",
        "        #insert vector in dictionary\n",
        "        vectors[first] = vector\n",
        "        vec_df_0.loc[i, 'first'] = vector\n",
        "    # do the same 4 second \n",
        "    if second in vectors:\n",
        "        vec_df_0.loc[i, 'second'] = vectors[second]\n",
        "    else:\n",
        "        try:\n",
        "            vector = news_model.word_vec(second.replace(\" \", \"_\"))\n",
        "        except:\n",
        "            vector = create_vector(second)\n",
        "        vectors[second] = vector\n",
        "        vec_df_0.loc[i, 'second'] = vector\n",
        "    vec_df_0.loc[i, 'link'] = 0\n",
        "\n",
        "end_time = time.time()\n",
        "epoch_mins, epoch_secs = epoch_time(start_time, end_time)\n",
        "print(f'\\nTime: {epoch_mins}m {epoch_secs}s')"
      ],
      "execution_count": null,
      "outputs": []
    },
    {
      "cell_type": "code",
      "metadata": {
        "id": "QuDY7RN_4iGu",
        "colab_type": "code",
        "colab": {}
      },
      "source": [
        "#Concatanating two dataframes link 1 and 0\n",
        "result = pd.concat([new_df, vec_df_0])"
      ],
      "execution_count": null,
      "outputs": []
    },
    {
      "cell_type": "code",
      "metadata": {
        "id": "cyOvAOt53zSy",
        "colab_type": "code",
        "colab": {
          "base_uri": "https://localhost:8080/",
          "height": 70
        },
        "outputId": "6be9cba3-e036-47a2-cb22-4318b667d61c"
      },
      "source": [
        "result['link'].value_counts()"
      ],
      "execution_count": null,
      "outputs": [
        {
          "output_type": "execute_result",
          "data": {
            "text/plain": [
              "1    70646\n",
              "0    70469\n",
              "Name: link, dtype: int64"
            ]
          },
          "metadata": {
            "tags": []
          },
          "execution_count": 122
        }
      ]
    },
    {
      "cell_type": "code",
      "metadata": {
        "id": "KURdDGOE_05w",
        "colab_type": "code",
        "colab": {}
      },
      "source": [
        "result.reset_index(inplace=True, drop=True)"
      ],
      "execution_count": null,
      "outputs": []
    },
    {
      "cell_type": "code",
      "metadata": {
        "id": "H_NGn6hbK09g",
        "colab_type": "code",
        "colab": {}
      },
      "source": [
        "result.to_pickle(\"embedding_pickle.csv\")"
      ],
      "execution_count": null,
      "outputs": []
    },
    {
      "cell_type": "code",
      "metadata": {
        "id": "C_jc7s5vKfN7",
        "colab_type": "code",
        "colab": {
          "base_uri": "https://localhost:8080/",
          "height": 417
        },
        "outputId": "866a63d6-48fe-4281-c0b6-a4751da02831"
      },
      "source": [
        "embedding_df_pickle = pd.read_pickle('embedding_pickle.csv')\n",
        "embedding_df_pickle"
      ],
      "execution_count": null,
      "outputs": [
        {
          "output_type": "execute_result",
          "data": {
            "text/html": [
              "<div>\n",
              "<style scoped>\n",
              "    .dataframe tbody tr th:only-of-type {\n",
              "        vertical-align: middle;\n",
              "    }\n",
              "\n",
              "    .dataframe tbody tr th {\n",
              "        vertical-align: top;\n",
              "    }\n",
              "\n",
              "    .dataframe thead th {\n",
              "        text-align: right;\n",
              "    }\n",
              "</style>\n",
              "<table border=\"1\" class=\"dataframe\">\n",
              "  <thead>\n",
              "    <tr style=\"text-align: right;\">\n",
              "      <th></th>\n",
              "      <th>first</th>\n",
              "      <th>second</th>\n",
              "      <th>link</th>\n",
              "    </tr>\n",
              "  </thead>\n",
              "  <tbody>\n",
              "    <tr>\n",
              "      <th>0</th>\n",
              "      <td>[0.078552246, 0.1998291, 0.11755371, 0.1346435...</td>\n",
              "      <td>[-0.1375, 0.10991211, 0.13271484, 0.05996094, ...</td>\n",
              "      <td>1</td>\n",
              "    </tr>\n",
              "    <tr>\n",
              "      <th>1</th>\n",
              "      <td>[0.078552246, 0.1998291, 0.11755371, 0.1346435...</td>\n",
              "      <td>[-0.19732666, 0.035949707, 0.16992188, 0.08459...</td>\n",
              "      <td>1</td>\n",
              "    </tr>\n",
              "    <tr>\n",
              "      <th>2</th>\n",
              "      <td>[0.078552246, 0.1998291, 0.11755371, 0.1346435...</td>\n",
              "      <td>[-0.265625, -0.16503906, 0.12402344, 0.1982421...</td>\n",
              "      <td>1</td>\n",
              "    </tr>\n",
              "    <tr>\n",
              "      <th>3</th>\n",
              "      <td>[0.078552246, 0.1998291, 0.11755371, 0.1346435...</td>\n",
              "      <td>[-0.099121094, 0.07373047, 0.0625, -0.12207031...</td>\n",
              "      <td>1</td>\n",
              "    </tr>\n",
              "    <tr>\n",
              "      <th>4</th>\n",
              "      <td>[0.078552246, 0.1998291, 0.11755371, 0.1346435...</td>\n",
              "      <td>[0.5434049417909654, 0.27836938509379616, 0.42...</td>\n",
              "      <td>1</td>\n",
              "    </tr>\n",
              "    <tr>\n",
              "      <th>...</th>\n",
              "      <td>...</td>\n",
              "      <td>...</td>\n",
              "      <td>...</td>\n",
              "    </tr>\n",
              "    <tr>\n",
              "      <th>141110</th>\n",
              "      <td>[0.09033203, 0.123046875, -0.20605469, -0.3203...</td>\n",
              "      <td>[0.100097656, 0.19042969, 0.10986328, 0.384765...</td>\n",
              "      <td>0</td>\n",
              "    </tr>\n",
              "    <tr>\n",
              "      <th>141111</th>\n",
              "      <td>[-0.006286621, -0.09326172, 0.33398438, -0.083...</td>\n",
              "      <td>[0.125, 0.15039062, -0.1953125, -0.24707031, 0...</td>\n",
              "      <td>0</td>\n",
              "    </tr>\n",
              "    <tr>\n",
              "      <th>141112</th>\n",
              "      <td>[0.13964844, 0.20703125, -0.111816406, 0.25585...</td>\n",
              "      <td>[0.115722656, -0.111816406, -0.30078125, 0.066...</td>\n",
              "      <td>0</td>\n",
              "    </tr>\n",
              "    <tr>\n",
              "      <th>141113</th>\n",
              "      <td>[0.14497599130711636, 0.17866217049219904, 0.0...</td>\n",
              "      <td>[-0.15332031, 0.099121094, -0.02722168, 0.1796...</td>\n",
              "      <td>0</td>\n",
              "    </tr>\n",
              "    <tr>\n",
              "      <th>141114</th>\n",
              "      <td>[0.0033416748, -0.03491211, 0.10546875, -0.001...</td>\n",
              "      <td>[-0.044952393, 0.09802246, 0.22167969, 0.13940...</td>\n",
              "      <td>0</td>\n",
              "    </tr>\n",
              "  </tbody>\n",
              "</table>\n",
              "<p>141115 rows × 3 columns</p>\n",
              "</div>"
            ],
            "text/plain": [
              "                                                    first  ... link\n",
              "0       [0.078552246, 0.1998291, 0.11755371, 0.1346435...  ...    1\n",
              "1       [0.078552246, 0.1998291, 0.11755371, 0.1346435...  ...    1\n",
              "2       [0.078552246, 0.1998291, 0.11755371, 0.1346435...  ...    1\n",
              "3       [0.078552246, 0.1998291, 0.11755371, 0.1346435...  ...    1\n",
              "4       [0.078552246, 0.1998291, 0.11755371, 0.1346435...  ...    1\n",
              "...                                                   ...  ...  ...\n",
              "141110  [0.09033203, 0.123046875, -0.20605469, -0.3203...  ...    0\n",
              "141111  [-0.006286621, -0.09326172, 0.33398438, -0.083...  ...    0\n",
              "141112  [0.13964844, 0.20703125, -0.111816406, 0.25585...  ...    0\n",
              "141113  [0.14497599130711636, 0.17866217049219904, 0.0...  ...    0\n",
              "141114  [0.0033416748, -0.03491211, 0.10546875, -0.001...  ...    0\n",
              "\n",
              "[141115 rows x 3 columns]"
            ]
          },
          "metadata": {
            "tags": []
          },
          "execution_count": 180
        }
      ]
    },
    {
      "cell_type": "code",
      "metadata": {
        "id": "8QUKEpw5bbFm",
        "colab_type": "code",
        "colab": {
          "base_uri": "https://localhost:8080/",
          "height": 1000
        },
        "outputId": "ca71c219-9541-424a-88b8-a7f2b46bca60"
      },
      "source": [
        "news_model.word_vec(\"Italy\")"
      ],
      "execution_count": 122,
      "outputs": [
        {
          "output_type": "execute_result",
          "data": {
            "text/plain": [
              "array([ 5.78613281e-02,  1.36718750e-01,  1.69921875e-01,  7.27539062e-02,\n",
              "       -1.51367188e-01, -1.47247314e-03, -1.51367188e-01, -3.12500000e-01,\n",
              "       -7.12890625e-02,  2.61718750e-01,  2.33650208e-04, -6.07910156e-02,\n",
              "        9.52148438e-02, -1.12792969e-01, -5.81054688e-02,  4.58984375e-02,\n",
              "        1.89208984e-02, -2.39257812e-02,  4.98046875e-02,  1.61132812e-01,\n",
              "        1.25000000e-01,  1.63574219e-02,  1.85546875e-01, -6.49414062e-02,\n",
              "        2.61230469e-02,  5.41992188e-02, -5.22460938e-02,  3.36914062e-02,\n",
              "       -2.11914062e-01,  1.04492188e-01,  9.22851562e-02, -8.83789062e-02,\n",
              "       -2.67028809e-03,  1.14746094e-01, -4.19921875e-02, -2.38281250e-01,\n",
              "       -2.75390625e-01,  4.24804688e-02, -4.32128906e-02,  6.83593750e-02,\n",
              "        6.39648438e-02,  1.58203125e-01,  1.59179688e-01,  4.02832031e-02,\n",
              "       -3.20434570e-03,  1.81640625e-01, -1.86767578e-02,  3.59375000e-01,\n",
              "       -6.73828125e-02,  1.67968750e-01, -1.98242188e-01,  3.39843750e-01,\n",
              "        1.57470703e-02,  1.46484375e-02, -1.32812500e-01,  2.73437500e-01,\n",
              "       -3.04687500e-01, -8.25195312e-02, -1.26953125e-01, -9.17968750e-02,\n",
              "       -1.44531250e-01,  1.09252930e-02,  2.31933594e-02, -3.61328125e-01,\n",
              "       -2.18505859e-02, -1.27929688e-01,  6.59179688e-02, -2.77343750e-01,\n",
              "        2.91015625e-01, -5.78613281e-02, -1.03515625e-01, -2.11181641e-02,\n",
              "       -2.61718750e-01,  1.26953125e-01,  1.89208984e-02, -1.92382812e-01,\n",
              "       -2.16674805e-03, -2.67333984e-02, -6.50024414e-03,  1.25000000e-01,\n",
              "        2.41699219e-02, -2.15820312e-01,  8.05664062e-02, -3.39843750e-01,\n",
              "        3.03955078e-02, -2.25585938e-01, -1.73828125e-01,  4.58984375e-02,\n",
              "        1.62109375e-01,  1.93359375e-01,  1.24023438e-01, -1.21582031e-01,\n",
              "       -3.24218750e-01,  1.51367188e-01,  1.69677734e-02, -3.16406250e-01,\n",
              "       -6.20117188e-02, -5.11718750e-01,  1.54296875e-01, -6.34765625e-02,\n",
              "       -4.02343750e-01, -8.93554688e-02, -8.10546875e-02,  1.21093750e-01,\n",
              "        1.35742188e-01, -6.65283203e-03, -2.31933594e-02, -8.00781250e-02,\n",
              "        6.64062500e-02, -1.85546875e-02,  2.14843750e-01,  6.88476562e-02,\n",
              "        1.07421875e-01, -2.41210938e-01,  3.44238281e-02,  1.48315430e-02,\n",
              "       -7.61718750e-02,  7.41577148e-03,  5.15625000e-01,  1.45507812e-01,\n",
              "       -1.87500000e-01, -2.75390625e-01,  8.34960938e-02,  7.66601562e-02,\n",
              "        1.30859375e-01, -3.53515625e-01, -2.90527344e-02, -1.56250000e-01,\n",
              "       -5.85937500e-01,  2.35351562e-01, -1.63085938e-01, -2.73437500e-01,\n",
              "       -2.28515625e-01, -1.01562500e-01,  1.46484375e-01, -1.43554688e-01,\n",
              "       -1.08886719e-01,  6.25000000e-02,  4.19921875e-01, -2.30468750e-01,\n",
              "        3.55468750e-01, -1.11328125e-01,  1.39648438e-01,  2.35351562e-01,\n",
              "        2.32421875e-01,  1.42822266e-02, -3.29589844e-02,  2.24609375e-01,\n",
              "        8.54492188e-02, -1.51367188e-01,  5.46264648e-03,  9.03320312e-02,\n",
              "        7.12890625e-02,  5.12695312e-02,  1.05957031e-01, -1.76757812e-01,\n",
              "       -2.08007812e-01,  1.97265625e-01,  6.00585938e-02,  3.12500000e-01,\n",
              "        3.93066406e-02,  5.46875000e-02, -1.09252930e-02, -5.49316406e-02,\n",
              "        1.73828125e-01, -1.03027344e-01, -1.45263672e-02, -3.68652344e-02,\n",
              "        6.73828125e-02,  4.85839844e-02, -3.45703125e-01,  9.91210938e-02,\n",
              "       -5.29785156e-02,  1.34887695e-02, -9.17968750e-02, -1.41601562e-01,\n",
              "        1.45507812e-01,  5.52368164e-03,  7.22656250e-02,  2.90527344e-02,\n",
              "        4.90722656e-02, -3.53515625e-01, -8.10546875e-02,  5.02929688e-02,\n",
              "        2.61718750e-01,  8.74023438e-02,  1.76757812e-01, -4.22363281e-02,\n",
              "       -3.69140625e-01,  3.18527222e-04,  4.73632812e-02, -1.52343750e-01,\n",
              "        1.15234375e-01,  5.49316406e-02, -1.11328125e-01,  1.74804688e-01,\n",
              "        2.13867188e-01, -2.25830078e-02,  2.68554688e-02, -2.36328125e-01,\n",
              "        1.10839844e-01, -1.80664062e-02, -1.42578125e-01, -6.29882812e-02,\n",
              "        3.78417969e-02, -8.34960938e-02, -1.63085938e-01, -1.55273438e-01,\n",
              "       -6.34765625e-02, -9.76562500e-02, -5.44433594e-02, -1.43554688e-01,\n",
              "       -6.25000000e-02,  2.13867188e-01, -2.73437500e-01, -3.02124023e-03,\n",
              "       -4.11987305e-03,  1.33789062e-01,  3.10058594e-02, -1.40380859e-02,\n",
              "       -1.35498047e-02, -1.83593750e-01, -1.69921875e-01, -1.72851562e-01,\n",
              "       -1.91406250e-01,  1.20605469e-01, -2.99072266e-03,  1.19628906e-01,\n",
              "        2.28515625e-01,  6.49414062e-02, -1.93359375e-01,  1.63085938e-01,\n",
              "        8.44726562e-02, -3.29589844e-02, -4.94384766e-03,  1.02050781e-01,\n",
              "       -9.52148438e-02,  2.73437500e-01, -1.24511719e-01, -9.08203125e-02,\n",
              "        7.12890625e-02, -6.78710938e-02,  1.90429688e-01,  3.32031250e-01,\n",
              "       -8.39843750e-02, -9.88769531e-03, -7.42187500e-02, -1.72851562e-01,\n",
              "        1.92260742e-03, -8.05664062e-02,  3.04687500e-01,  2.86865234e-02,\n",
              "        1.44531250e-01,  1.40991211e-02,  2.81982422e-02,  2.50000000e-01,\n",
              "        1.09863281e-01, -1.04980469e-01,  1.57226562e-01,  2.73437500e-02,\n",
              "        1.15722656e-01,  8.98437500e-02,  2.51770020e-03,  2.79296875e-01,\n",
              "        1.98242188e-01, -6.73828125e-02, -3.47656250e-01,  7.44628906e-03,\n",
              "        5.59082031e-02, -1.11694336e-02,  3.00292969e-02,  8.39843750e-02,\n",
              "       -6.54296875e-02, -6.44531250e-02,  3.71093750e-01, -1.30615234e-02,\n",
              "       -1.27929688e-01,  2.24609375e-02, -8.48388672e-03,  2.55126953e-02,\n",
              "       -1.71875000e-01,  1.87500000e-01, -2.49023438e-02,  5.46264648e-03,\n",
              "       -3.06640625e-01,  9.57031250e-02,  2.09960938e-02,  8.72802734e-03,\n",
              "       -2.45117188e-01,  7.61718750e-02, -4.34570312e-02,  4.00390625e-02,\n",
              "       -3.32031250e-01,  1.01074219e-01,  4.34570312e-02,  2.61718750e-01,\n",
              "       -1.30859375e-01, -1.14257812e-01,  7.86132812e-02, -1.44531250e-01],\n",
              "      dtype=float32)"
            ]
          },
          "metadata": {
            "tags": []
          },
          "execution_count": 122
        }
      ]
    }
  ]
}